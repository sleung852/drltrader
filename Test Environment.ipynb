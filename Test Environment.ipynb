{
 "cells": [
  {
   "cell_type": "code",
   "execution_count": 1,
   "metadata": {},
   "outputs": [],
   "source": [
    "from environ import PortfolioEnv\n",
    "from data import MultiAssetData"
   ]
  },
  {
   "cell_type": "code",
   "execution_count": 2,
   "metadata": {},
   "outputs": [],
   "source": [
    "env_params = {\n",
    "    # environment related\n",
    "    'tickers': ['aapl', 'amzn'],\n",
    "    'mode': \"train\",\n",
    "    'random_offset': True,\n",
    "    'dim_mode': 1,\n",
    "    # state related\n",
    "    'commission': 0.01,\n",
    "    'window_size': 10,\n",
    "    'cash': False,\n",
    "    'norm_func': 'softmax'\n",
    "}"
   ]
  },
  {
   "cell_type": "code",
   "execution_count": 3,
   "metadata": {},
   "outputs": [],
   "source": [
    "train_data = MultiAssetData(\n",
    "    ['aapl', 'amzn'],\n",
    "    daily=False,\n",
    "    indicators=[],\n",
    "    news=False,\n",
    "    mode=\"train\"\n",
    ")"
   ]
  },
  {
   "cell_type": "code",
   "execution_count": 4,
   "metadata": {},
   "outputs": [
    {
     "name": "stdout",
     "output_type": "stream",
     "text": [
      "{'tickers': ['aapl', 'amzn'], 'mode': 'train', 'random_offset': True, 'dim_mode': 1, 'commission': 0.01, 'window_size': 10, 'cash': False, 'norm_func': 'softmax'}\n"
     ]
    }
   ],
   "source": [
    "env = PortfolioEnv(train_data, env_params)"
   ]
  },
  {
   "cell_type": "code",
   "execution_count": 5,
   "metadata": {},
   "outputs": [],
   "source": [
    "eval_data = MultiAssetData(\n",
    "    ['aapl', 'amzn'],\n",
    "    daily=False,\n",
    "    indicators=[],\n",
    "    news=False,\n",
    "    mode=\"val\"\n",
    ")\n",
    "env_params_val = env_params.copy()\n",
    "env_params_val['mode'] = 'eval'"
   ]
  },
  {
   "cell_type": "code",
   "execution_count": 6,
   "metadata": {},
   "outputs": [
    {
     "name": "stdout",
     "output_type": "stream",
     "text": [
      "{'tickers': ['aapl', 'amzn'], 'mode': 'eval', 'random_offset': True, 'dim_mode': 1, 'commission': 0.01, 'window_size': 10, 'cash': False, 'norm_func': 'softmax'}\n"
     ]
    }
   ],
   "source": [
    "env_val = PortfolioEnv(eval_data, env_params_val)"
   ]
  },
  {
   "cell_type": "code",
   "execution_count": 7,
   "metadata": {},
   "outputs": [
    {
     "data": {
      "text/plain": [
       "array([ 7.98707362e-04,  0.00000000e+00,  6.93131122e-04,  5.41669905e-01,\n",
       "        4.37957759e-04, -8.19844776e-04, -8.19844776e-04,  3.03511500e-01,\n",
       "        6.92616042e-04, -5.04554737e-05,  5.36662759e-04,  3.64850402e-01,\n",
       "        9.09766357e-04, -2.42604365e-04,  7.42975855e-04,  7.00207949e-02,\n",
       "        1.05435909e-04, -6.37199613e-04,  0.00000000e+00, -3.30538929e-01,\n",
       "        3.12124059e-04, -1.09394931e-03, -1.09394931e-03, -2.09274337e-01,\n",
       "        1.05435909e-04, -2.10871818e-04,  0.00000000e+00,  5.74018396e-02,\n",
       "        3.48886591e-04, -1.00115279e-03, -1.45622238e-04,  1.88926607e-01,\n",
       "        3.20891908e-04, -4.26327810e-04, -2.65881856e-04, -2.09704280e-01,\n",
       "        4.24750848e-04, -1.36527058e-04, -1.36527058e-04, -4.59682971e-01,\n",
       "        2.75125873e-04, -2.56784144e-04,  1.78831819e-04,  2.77266502e-01,\n",
       "        6.07164518e-04, -3.03582274e-05,  4.00728604e-04, -2.29956269e-01,\n",
       "        4.26372746e-04,  0.00000000e+00,  3.20925727e-04,  1.39817372e-01,\n",
       "        1.01624476e-03, -1.04658044e-04,  7.73559441e-04, -1.00567915e-01,\n",
       "        4.99566901e-04, -3.20822786e-04,  3.29989125e-04,  1.24552238e+00,\n",
       "        0.00000000e+00, -9.92898131e-04, -3.71389382e-04, -2.98079461e-01,\n",
       "        3.29853065e-04, -4.12316353e-04, -3.71084723e-04, -6.92502916e-01,\n",
       "        4.24673519e-04, -5.41458779e-04, -3.79172794e-04,  1.64992499e+00,\n",
       "        5.04150084e-05, -2.02576676e-03, -1.91577023e-03,  1.89045012e-01,\n",
       "        1.66889193e-04, -5.76526276e-04, -2.57919659e-04, -1.53748229e-01,\n",
       "        5.00000000e-01,  5.00000000e-01], dtype=float32)"
      ]
     },
     "execution_count": 7,
     "metadata": {},
     "output_type": "execute_result"
    }
   ],
   "source": [
    "obs = env.reset()\n",
    "obs"
   ]
  },
  {
   "cell_type": "code",
   "execution_count": 8,
   "metadata": {},
   "outputs": [
    {
     "data": {
      "text/plain": [
       "228463"
      ]
     },
     "execution_count": 8,
     "metadata": {},
     "output_type": "execute_result"
    }
   ],
   "source": [
    "idx = env.state.ind\n",
    "idx"
   ]
  },
  {
   "cell_type": "code",
   "execution_count": 9,
   "metadata": {},
   "outputs": [
    {
     "data": {
      "text/plain": [
       "array([0.5, 0.5])"
      ]
     },
     "execution_count": 9,
     "metadata": {},
     "output_type": "execute_result"
    }
   ],
   "source": [
    "env.state.positions"
   ]
  },
  {
   "cell_type": "code",
   "execution_count": 10,
   "metadata": {},
   "outputs": [
    {
     "data": {
      "text/plain": [
       "array([ 7.98707362e-04,  0.00000000e+00,  6.93131122e-04,  5.41669905e-01,\n",
       "        4.37957759e-04, -8.19844776e-04, -8.19844776e-04,  3.03511500e-01,\n",
       "        6.92616042e-04, -5.04554737e-05,  5.36662759e-04,  3.64850402e-01,\n",
       "        9.09766357e-04, -2.42604365e-04,  7.42975855e-04,  7.00207949e-02,\n",
       "        1.05435909e-04, -6.37199613e-04,  0.00000000e+00, -3.30538929e-01,\n",
       "        3.12124059e-04, -1.09394931e-03, -1.09394931e-03, -2.09274337e-01,\n",
       "        1.05435909e-04, -2.10871818e-04,  0.00000000e+00,  5.74018396e-02,\n",
       "        3.48886591e-04, -1.00115279e-03, -1.45622238e-04,  1.88926607e-01,\n",
       "        3.20891908e-04, -4.26327810e-04, -2.65881856e-04, -2.09704280e-01,\n",
       "        4.24750848e-04, -1.36527058e-04, -1.36527058e-04, -4.59682971e-01,\n",
       "        2.75125873e-04, -2.56784144e-04,  1.78831819e-04,  2.77266502e-01,\n",
       "        6.07164518e-04, -3.03582274e-05,  4.00728604e-04, -2.29956269e-01,\n",
       "        4.26372746e-04,  0.00000000e+00,  3.20925727e-04,  1.39817372e-01,\n",
       "        1.01624476e-03, -1.04658044e-04,  7.73559441e-04, -1.00567915e-01,\n",
       "        4.99566901e-04, -3.20822786e-04,  3.29989125e-04,  1.24552238e+00,\n",
       "        0.00000000e+00, -9.92898131e-04, -3.71389382e-04, -2.98079461e-01,\n",
       "        3.29853065e-04, -4.12316353e-04, -3.71084723e-04, -6.92502916e-01,\n",
       "        4.24673519e-04, -5.41458779e-04, -3.79172794e-04,  1.64992499e+00,\n",
       "        5.04150084e-05, -2.02576676e-03, -1.91577023e-03,  1.89045012e-01,\n",
       "        1.66889193e-04, -5.76526276e-04, -2.57919659e-04, -1.53748229e-01],\n",
       "      dtype=float32)"
      ]
     },
     "execution_count": 10,
     "metadata": {},
     "output_type": "execute_result"
    }
   ],
   "source": [
    "obs[:-2]"
   ]
  },
  {
   "cell_type": "code",
   "execution_count": 11,
   "metadata": {},
   "outputs": [
    {
     "data": {
      "text/plain": [
       "array([ 7.98707379e-04,  0.00000000e+00,  6.93131117e-04,  5.41669914e-01,\n",
       "        4.37957753e-04, -8.19844790e-04, -8.19844790e-04,  3.03511490e-01,\n",
       "        6.92616071e-04, -5.04554753e-05,  5.36662783e-04,  3.64850405e-01,\n",
       "        9.09766342e-04, -2.42604358e-04,  7.42975846e-04,  7.00207983e-02,\n",
       "        1.05435909e-04, -6.37199622e-04,  0.00000000e+00, -3.30538922e-01,\n",
       "        3.12124050e-04, -1.09394934e-03, -1.09394934e-03, -2.09274343e-01,\n",
       "        1.05435909e-04, -2.10871817e-04,  0.00000000e+00,  5.74018405e-02,\n",
       "        3.48886597e-04, -1.00115284e-03, -1.45622232e-04,  1.88926607e-01,\n",
       "        3.20891896e-04, -4.26327805e-04, -2.65881857e-04, -2.09704284e-01,\n",
       "        4.24750838e-04, -1.36527055e-04, -1.36527055e-04, -4.59682977e-01,\n",
       "        2.75125870e-04, -2.56784145e-04,  1.78831816e-04,  2.77266508e-01,\n",
       "        6.07164542e-04, -3.03582271e-05,  4.00728597e-04, -2.29956268e-01,\n",
       "        4.26372760e-04,  0.00000000e+00,  3.20925733e-04,  1.39817367e-01,\n",
       "        1.01624475e-03, -1.04658041e-04,  7.73559435e-04, -1.00567913e-01,\n",
       "        4.99566889e-04, -3.20822773e-04,  3.29989138e-04,  1.24552242e+00,\n",
       "        0.00000000e+00, -9.92898126e-04, -3.71389375e-04, -2.98079453e-01,\n",
       "        3.29853078e-04, -4.12316347e-04, -3.71084713e-04, -6.92502945e-01,\n",
       "        4.24673532e-04, -5.41458754e-04, -3.79172797e-04,  1.64992504e+00,\n",
       "        5.04150072e-05, -2.02576665e-03, -1.91577027e-03,  1.89045005e-01,\n",
       "        1.66889186e-04, -5.76526277e-04, -2.57919650e-04, -1.53748232e-01])"
      ]
     },
     "execution_count": 11,
     "metadata": {},
     "output_type": "execute_result"
    }
   ],
   "source": [
    "env.state.findata.relative_prices.iloc[idx-10+1:idx+1,1:].values.reshape(-1)"
   ]
  },
  {
   "cell_type": "code",
   "execution_count": 12,
   "metadata": {},
   "outputs": [
    {
     "data": {
      "text/plain": [
       "array([0.5, 0.5], dtype=float32)"
      ]
     },
     "execution_count": 12,
     "metadata": {},
     "output_type": "execute_result"
    }
   ],
   "source": [
    "obs[-2:]"
   ]
  },
  {
   "cell_type": "code",
   "execution_count": 13,
   "metadata": {},
   "outputs": [
    {
     "data": {
      "text/plain": [
       "array([ 21.8198, 659.08  ], dtype=float32)"
      ]
     },
     "execution_count": 13,
     "metadata": {},
     "output_type": "execute_result"
    }
   ],
   "source": [
    "env.state.last_adj_close_price"
   ]
  },
  {
   "cell_type": "code",
   "execution_count": 14,
   "metadata": {},
   "outputs": [
    {
     "data": {
      "text/plain": [
       "aapl_close_1min    21.7771\n",
       "amzn_close_1min     658.95\n",
       "Name: 228463, dtype: object"
      ]
     },
     "execution_count": 14,
     "metadata": {},
     "output_type": "execute_result"
    }
   ],
   "source": [
    "env.state.findata.price_data.iloc[idx].loc[[f'{tick}_close_1min' for tick in ['aapl', 'amzn']]]"
   ]
  },
  {
   "cell_type": "code",
   "execution_count": 15,
   "metadata": {},
   "outputs": [
    {
     "data": {
      "text/html": [
       "<div>\n",
       "<style scoped>\n",
       "    .dataframe tbody tr th:only-of-type {\n",
       "        vertical-align: middle;\n",
       "    }\n",
       "\n",
       "    .dataframe tbody tr th {\n",
       "        vertical-align: top;\n",
       "    }\n",
       "\n",
       "    .dataframe thead th {\n",
       "        text-align: right;\n",
       "    }\n",
       "</style>\n",
       "<table border=\"1\" class=\"dataframe\">\n",
       "  <thead>\n",
       "    <tr style=\"text-align: right;\">\n",
       "      <th></th>\n",
       "      <th>time</th>\n",
       "      <th>aapl_open_1min</th>\n",
       "      <th>aapl_high_1min</th>\n",
       "      <th>aapl_low_1min</th>\n",
       "      <th>aapl_close_1min</th>\n",
       "      <th>aapl_volume_1min</th>\n",
       "      <th>amzn_open_1min</th>\n",
       "      <th>amzn_high_1min</th>\n",
       "      <th>amzn_low_1min</th>\n",
       "      <th>amzn_close_1min</th>\n",
       "      <th>amzn_volume_1min</th>\n",
       "    </tr>\n",
       "  </thead>\n",
       "  <tbody>\n",
       "    <tr>\n",
       "      <th>228461</th>\n",
       "      <td>2016-04-29 13:25:00-04:00</td>\n",
       "      <td>21.8189</td>\n",
       "      <td>21.8298</td>\n",
       "      <td>21.8119</td>\n",
       "      <td>21.8261</td>\n",
       "      <td>1185052</td>\n",
       "      <td>659.685</td>\n",
       "      <td>659.685</td>\n",
       "      <td>659.030</td>\n",
       "      <td>659.44</td>\n",
       "      <td>2668.0</td>\n",
       "    </tr>\n",
       "    <tr>\n",
       "      <th>228462</th>\n",
       "      <td>2016-04-29 13:26:00-04:00</td>\n",
       "      <td>21.8279</td>\n",
       "      <td>21.8351</td>\n",
       "      <td>21.8189</td>\n",
       "      <td>21.8198</td>\n",
       "      <td>364400</td>\n",
       "      <td>659.330</td>\n",
       "      <td>659.610</td>\n",
       "      <td>658.973</td>\n",
       "      <td>659.08</td>\n",
       "      <td>7070.0</td>\n",
       "    </tr>\n",
       "    <tr>\n",
       "      <th>228463</th>\n",
       "      <td>2016-04-29 13:27:00-04:00</td>\n",
       "      <td>21.8189</td>\n",
       "      <td>21.8200</td>\n",
       "      <td>21.7747</td>\n",
       "      <td>21.7771</td>\n",
       "      <td>433288</td>\n",
       "      <td>659.120</td>\n",
       "      <td>659.230</td>\n",
       "      <td>658.740</td>\n",
       "      <td>658.95</td>\n",
       "      <td>5983.0</td>\n",
       "    </tr>\n",
       "  </tbody>\n",
       "</table>\n",
       "</div>"
      ],
      "text/plain": [
       "                             time  aapl_open_1min  aapl_high_1min  \\\n",
       "228461  2016-04-29 13:25:00-04:00         21.8189         21.8298   \n",
       "228462  2016-04-29 13:26:00-04:00         21.8279         21.8351   \n",
       "228463  2016-04-29 13:27:00-04:00         21.8189         21.8200   \n",
       "\n",
       "        aapl_low_1min  aapl_close_1min  aapl_volume_1min  amzn_open_1min  \\\n",
       "228461        21.8119          21.8261           1185052         659.685   \n",
       "228462        21.8189          21.8198            364400         659.330   \n",
       "228463        21.7747          21.7771            433288         659.120   \n",
       "\n",
       "        amzn_high_1min  amzn_low_1min  amzn_close_1min  amzn_volume_1min  \n",
       "228461         659.685        659.030           659.44            2668.0  \n",
       "228462         659.610        658.973           659.08            7070.0  \n",
       "228463         659.230        658.740           658.95            5983.0  "
      ]
     },
     "execution_count": 15,
     "metadata": {},
     "output_type": "execute_result"
    }
   ],
   "source": [
    "env.state.findata.price_data.iloc[idx-2:idx+1]"
   ]
  },
  {
   "cell_type": "code",
   "execution_count": 16,
   "metadata": {},
   "outputs": [],
   "source": [
    "import numpy as np\n",
    "action = np.array([0.7, 0.3, 0.7])"
   ]
  },
  {
   "cell_type": "code",
   "execution_count": 17,
   "metadata": {},
   "outputs": [],
   "source": [
    "obs, r, done, info = env.step(np.array([0.7, 0.3, 0.7]))"
   ]
  },
  {
   "cell_type": "code",
   "execution_count": 18,
   "metadata": {},
   "outputs": [
    {
     "data": {
      "text/plain": [
       "(array([ 6.92616042e-04, -5.04554737e-05,  5.36662759e-04,  3.64850402e-01,\n",
       "         9.09766357e-04, -2.42604365e-04,  7.42975855e-04,  7.00207949e-02,\n",
       "         1.05435909e-04, -6.37199613e-04,  0.00000000e+00, -3.30538929e-01,\n",
       "         3.12124059e-04, -1.09394931e-03, -1.09394931e-03, -2.09274337e-01,\n",
       "         1.05435909e-04, -2.10871818e-04,  0.00000000e+00,  5.74018396e-02,\n",
       "         3.48886591e-04, -1.00115279e-03, -1.45622238e-04,  1.88926607e-01,\n",
       "         3.20891908e-04, -4.26327810e-04, -2.65881856e-04, -2.09704280e-01,\n",
       "         4.24750848e-04, -1.36527058e-04, -1.36527058e-04, -4.59682971e-01,\n",
       "         2.75125873e-04, -2.56784144e-04,  1.78831819e-04,  2.77266502e-01,\n",
       "         6.07164518e-04, -3.03582274e-05,  4.00728604e-04, -2.29956269e-01,\n",
       "         4.26372746e-04,  0.00000000e+00,  3.20925727e-04,  1.39817372e-01,\n",
       "         1.01624476e-03, -1.04658044e-04,  7.73559441e-04, -1.00567915e-01,\n",
       "         4.99566901e-04, -3.20822786e-04,  3.29989125e-04,  1.24552238e+00,\n",
       "         0.00000000e+00, -9.92898131e-04, -3.71389382e-04, -2.98079461e-01,\n",
       "         3.29853065e-04, -4.12316353e-04, -3.71084723e-04, -6.92502916e-01,\n",
       "         4.24673519e-04, -5.41458779e-04, -3.79172794e-04,  1.64992499e+00,\n",
       "         5.04150084e-05, -2.02576676e-03, -1.91577023e-03,  1.89045012e-01,\n",
       "         1.66889193e-04, -5.76526276e-04, -2.57919659e-04, -1.53748229e-01,\n",
       "         3.16846592e-04, -6.42877130e-04, -4.27054096e-04,  2.24321932e-01,\n",
       "         1.06277992e-04, -7.39391195e-04, -3.81082529e-04,  1.67140228e-04,\n",
       "         5.00000000e-01,  5.00000000e-01], dtype=float32),\n",
       " -0.002154181761368834,\n",
       " False,\n",
       " {'date': datetime.datetime(2016, 4, 29, 13, 27, tzinfo=tzoffset(None, -14400)),\n",
       "  'positions': array([0.3, 0.7]),\n",
       "  'close': array([ 21.7771, 658.95  ], dtype=float32),\n",
       "  'previous_close': array([ 21.8198, 659.08  ], dtype=float32),\n",
       "  'adj_port': True})"
      ]
     },
     "execution_count": 18,
     "metadata": {},
     "output_type": "execute_result"
    }
   ],
   "source": [
    "obs, r, done, info"
   ]
  },
  {
   "cell_type": "code",
   "execution_count": 19,
   "metadata": {},
   "outputs": [
    {
     "data": {
      "text/plain": [
       "228464"
      ]
     },
     "execution_count": 19,
     "metadata": {},
     "output_type": "execute_result"
    }
   ],
   "source": [
    "idx = env.state.ind\n",
    "idx"
   ]
  },
  {
   "cell_type": "code",
   "execution_count": 22,
   "metadata": {},
   "outputs": [
    {
     "data": {
      "text/plain": [
       "array([ 1.13869896e-03, -8.85654743e-05,  7.88051975e-04,  2.04802788e+00,\n",
       "        1.12816991e-03,  0.00000000e+00,  4.61078138e-04,  9.72497250e-01,\n",
       "        3.07026020e-04, -8.66896996e-05, -8.66896996e-05, -2.17466945e-01,\n",
       "        1.47120845e-04, -6.76755887e-04, -4.51170592e-04, -5.75432236e-01,\n",
       "        8.75965142e-04,  0.00000000e+00,  7.00772114e-04,  6.35266468e-01,\n",
       "        9.71350078e-04,  0.00000000e+00,  9.71350078e-04,  3.61247947e-01,\n",
       "        4.33163738e-05, -6.56965002e-04, -6.56965002e-04, -4.19864823e-01,\n",
       "        0.00000000e+00, -1.01950789e-03, -9.21478286e-04, -3.01688782e-01,\n",
       "        4.37021894e-04, -1.96840440e-04,  3.75622124e-04, -3.31726370e-01,\n",
       "        2.25614063e-04, -2.69755944e-04,  2.25614063e-04, -8.18621524e-01,\n",
       "        4.38655080e-04, -1.31777040e-04, -8.66479170e-05,  1.70596487e-01,\n",
       "        2.45182170e-05, -2.45182170e-04, -2.15760310e-04,  4.16666667e+00,\n",
       "        3.12308756e-04, -1.26367705e-04,  3.12308756e-04, -4.22938659e-01,\n",
       "        2.50222011e-04, -3.18910406e-04,  1.37376790e-04, -7.48387097e-02,\n",
       "        4.33106674e-05, -3.50094562e-04, -3.06783894e-04,  9.31474340e-01,\n",
       "        0.00000000e+00, -2.69800936e-04, -2.45273578e-04, -6.98545527e-01,\n",
       "        5.68626955e-04,  0.00000000e+00,  5.25302997e-04, -3.22019147e-01,\n",
       "        2.40473094e-04, -2.40473094e-04,  3.92609133e-05,  2.71777925e+00,\n",
       "        3.93319345e-04,  0.00000000e+00,  2.02072324e-04,  2.57192479e-01,\n",
       "        4.36582686e-04, -9.32030453e-05, -9.32030453e-05,  2.66844444e-01])"
      ]
     },
     "execution_count": 22,
     "metadata": {},
     "output_type": "execute_result"
    }
   ],
   "source": [
    "env.state.findata.relative_prices.iloc[idx-10+1:idx+1,1:].values.reshape(-1)"
   ]
  },
  {
   "cell_type": "code",
   "execution_count": 24,
   "metadata": {},
   "outputs": [
    {
     "data": {
      "text/html": [
       "<div>\n",
       "<style scoped>\n",
       "    .dataframe tbody tr th:only-of-type {\n",
       "        vertical-align: middle;\n",
       "    }\n",
       "\n",
       "    .dataframe tbody tr th {\n",
       "        vertical-align: top;\n",
       "    }\n",
       "\n",
       "    .dataframe thead th {\n",
       "        text-align: right;\n",
       "    }\n",
       "</style>\n",
       "<table border=\"1\" class=\"dataframe\">\n",
       "  <thead>\n",
       "    <tr style=\"text-align: right;\">\n",
       "      <th></th>\n",
       "      <th>time</th>\n",
       "      <th>aapl_open_1min</th>\n",
       "      <th>aapl_high_1min</th>\n",
       "      <th>aapl_low_1min</th>\n",
       "      <th>aapl_close_1min</th>\n",
       "      <th>aapl_volume_1min</th>\n",
       "      <th>amzn_open_1min</th>\n",
       "      <th>amzn_high_1min</th>\n",
       "      <th>amzn_low_1min</th>\n",
       "      <th>amzn_close_1min</th>\n",
       "      <th>amzn_volume_1min</th>\n",
       "    </tr>\n",
       "  </thead>\n",
       "  <tbody>\n",
       "    <tr>\n",
       "      <th>459092</th>\n",
       "      <td>2018-09-04 13:07:00-04:00</td>\n",
       "      <td>55.3939</td>\n",
       "      <td>55.4112</td>\n",
       "      <td>55.3869</td>\n",
       "      <td>55.4112</td>\n",
       "      <td>80904</td>\n",
       "      <td>2038.19</td>\n",
       "      <td>2038.70</td>\n",
       "      <td>2037.54</td>\n",
       "      <td>2038.47</td>\n",
       "      <td>5019.0</td>\n",
       "    </tr>\n",
       "    <tr>\n",
       "      <th>459093</th>\n",
       "      <td>2018-09-04 13:08:00-04:00</td>\n",
       "      <td>55.4136</td>\n",
       "      <td>55.4160</td>\n",
       "      <td>55.3942</td>\n",
       "      <td>55.3966</td>\n",
       "      <td>156264</td>\n",
       "      <td>2038.54</td>\n",
       "      <td>2038.54</td>\n",
       "      <td>2037.99</td>\n",
       "      <td>2038.04</td>\n",
       "      <td>1513.0</td>\n",
       "    </tr>\n",
       "    <tr>\n",
       "      <th>459094</th>\n",
       "      <td>2018-09-04 13:09:00-04:00</td>\n",
       "      <td>55.3966</td>\n",
       "      <td>55.4281</td>\n",
       "      <td>55.3966</td>\n",
       "      <td>55.4257</td>\n",
       "      <td>105944</td>\n",
       "      <td>2037.65</td>\n",
       "      <td>2038.14</td>\n",
       "      <td>2037.16</td>\n",
       "      <td>2037.73</td>\n",
       "      <td>5625.0</td>\n",
       "    </tr>\n",
       "    <tr>\n",
       "      <th>459095</th>\n",
       "      <td>2018-09-04 13:10:00-04:00</td>\n",
       "      <td>55.4257</td>\n",
       "      <td>55.4475</td>\n",
       "      <td>55.4257</td>\n",
       "      <td>55.4369</td>\n",
       "      <td>133192</td>\n",
       "      <td>2038.56</td>\n",
       "      <td>2039.45</td>\n",
       "      <td>2038.37</td>\n",
       "      <td>2038.37</td>\n",
       "      <td>7126.0</td>\n",
       "    </tr>\n",
       "  </tbody>\n",
       "</table>\n",
       "</div>"
      ],
      "text/plain": [
       "                             time  aapl_open_1min  aapl_high_1min  \\\n",
       "459092  2018-09-04 13:07:00-04:00         55.3939         55.4112   \n",
       "459093  2018-09-04 13:08:00-04:00         55.4136         55.4160   \n",
       "459094  2018-09-04 13:09:00-04:00         55.3966         55.4281   \n",
       "459095  2018-09-04 13:10:00-04:00         55.4257         55.4475   \n",
       "\n",
       "        aapl_low_1min  aapl_close_1min  aapl_volume_1min  amzn_open_1min  \\\n",
       "459092        55.3869          55.4112             80904         2038.19   \n",
       "459093        55.3942          55.3966            156264         2038.54   \n",
       "459094        55.3966          55.4257            105944         2037.65   \n",
       "459095        55.4257          55.4369            133192         2038.56   \n",
       "\n",
       "        amzn_high_1min  amzn_low_1min  amzn_close_1min  amzn_volume_1min  \n",
       "459092         2038.70        2037.54          2038.47            5019.0  \n",
       "459093         2038.54        2037.99          2038.04            1513.0  \n",
       "459094         2038.14        2037.16          2037.73            5625.0  \n",
       "459095         2039.45        2038.37          2038.37            7126.0  "
      ]
     },
     "execution_count": 24,
     "metadata": {},
     "output_type": "execute_result"
    }
   ],
   "source": [
    "env.state.findata.price_data.iloc[idx-3:idx+1]"
   ]
  },
  {
   "cell_type": "code",
   "execution_count": 38,
   "metadata": {},
   "outputs": [
    {
     "data": {
      "text/plain": [
       "[36.2823, 993.11]"
      ]
     },
     "execution_count": 38,
     "metadata": {},
     "output_type": "execute_result"
    }
   ],
   "source": [
    "[env.state.findata.price_data.iloc[idx-3].loc[f'{ticker}_close_1min'] for ticker in ['aapl', 'amzn']]"
   ]
  },
  {
   "cell_type": "code",
   "execution_count": 40,
   "metadata": {},
   "outputs": [
    {
     "data": {
      "text/plain": [
       "array([ 36.2658, 993.264 ], dtype=float32)"
      ]
     },
     "execution_count": 40,
     "metadata": {},
     "output_type": "execute_result"
    }
   ],
   "source": [
    "env.state.last_adj_close_price"
   ]
  },
  {
   "cell_type": "code",
   "execution_count": null,
   "metadata": {},
   "outputs": [],
   "source": []
  }
 ],
 "metadata": {
  "kernelspec": {
   "display_name": "drltrader",
   "language": "python",
   "name": "drltrader"
  },
  "language_info": {
   "codemirror_mode": {
    "name": "ipython",
    "version": 3
   },
   "file_extension": ".py",
   "mimetype": "text/x-python",
   "name": "python",
   "nbconvert_exporter": "python",
   "pygments_lexer": "ipython3",
   "version": "3.8.10"
  }
 },
 "nbformat": 4,
 "nbformat_minor": 4
}
