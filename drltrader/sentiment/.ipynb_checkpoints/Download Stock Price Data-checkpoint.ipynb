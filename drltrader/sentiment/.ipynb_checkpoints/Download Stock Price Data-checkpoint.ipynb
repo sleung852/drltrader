{
 "cells": [
  {
   "cell_type": "code",
   "execution_count": 110,
   "metadata": {},
   "outputs": [],
   "source": [
    "from alpha_vantage.timeseries import TimeSeries\n",
    "from api_secret import ALPHA_VANTAGE_API_KEY\n",
    "\n",
    "import pandas as pd\n",
    "import time\n",
    "\n",
    "from tqdm.notebook import trange"
   ]
  },
  {
   "cell_type": "code",
   "execution_count": 92,
   "metadata": {},
   "outputs": [],
   "source": [
    "# # test run\n",
    "# ticker = 'AAPL'\n",
    "\n",
    "# ts = TimeSeries(key=ALPHA_VANTAGE_API_KEY, output_format='csv', indexing_type='date')\n",
    "# data, meta = ts.get_intraday_extended(symbol=ticker, interval='1min')\n",
    "\n",
    "# raw_data = [line for line in data] # data is a csv reader obj\n",
    "# df = pd.DataFrame(raw_data)\n",
    "\n",
    "# df.columns = df.iloc[0]\n",
    "# df.drop(0, inplace=True)\n",
    "# df.set_index('time', inplace=True)\n",
    "# df.sort_index(inplace=True)\n",
    "\n",
    "# start_date = df.index[0].split(' ')[0]\n",
    "# end_date = df.index[-1].split(' ')[0]\n",
    "# ticker = 'AAPL'\n",
    "# filename = f'{ticker}_{start_date}_{end_date}.csv'\n",
    "# data_dir = 'data/stock/'\n",
    "# df.to_csv(data_dir + filename)"
   ]
  },
  {
   "cell_type": "code",
   "execution_count": 111,
   "metadata": {},
   "outputs": [],
   "source": [
    "def get_2year_intraday(ticker, interval=1):\n",
    "    count = 0\n",
    "    start = time.time()\n",
    "    ts = TimeSeries(key=ALPHA_VANTAGE_API_KEY, output_format='csv', indexing_type='date')\n",
    "    for year_i in trange(1,3, desc='Year'):\n",
    "        for month_i in trange(1,13, desc='Month'):\n",
    "            slice_str = 'year{}month{}'.format(year_i, month_i)\n",
    "            data, meta_data = ts.get_intraday_extended(symbol=ticker,interval='{}min'.format(interval), slice=slice_str)\n",
    "            \n",
    "            raw_data = [line for line in data] # data is a csv reader obj\n",
    "            df = pd.DataFrame(raw_data)\n",
    "            # cleaning up\n",
    "            df.columns = df.iloc[0]\n",
    "            df.drop(0, inplace=True)\n",
    "            df.set_index('time', inplace=True)\n",
    "            df.sort_index(inplace=True)\n",
    "            \n",
    "            start_date = df.index[0].split(' ')[0]\n",
    "            end_date = df.index[-1].split(' ')[0]\n",
    "            filename = f'{ticker}_{start_date}_{end_date}.csv'\n",
    "            data_dir = 'data/stock/'\n",
    "            df.to_csv(data_dir + filename)\n",
    "            \n",
    "            count += 1\n",
    "            # keep API calls within limit (5 per minute)\n",
    "            if count >= 5:\n",
    "                time_taken = (time.time() - start)\n",
    "                if time_taken < 60:\n",
    "                    time.sleep(60 - time_taken)\n",
    "                    start = time.time()"
   ]
  },
  {
   "cell_type": "code",
   "execution_count": null,
   "metadata": {},
   "outputs": [
    {
     "data": {
      "application/vnd.jupyter.widget-view+json": {
       "model_id": "662e3ddb592d4755a7c7da20bd547cb7",
       "version_major": 2,
       "version_minor": 0
      },
      "text/plain": [
       "Year:   0%|          | 0/2 [00:00<?, ?it/s]"
      ]
     },
     "metadata": {},
     "output_type": "display_data"
    },
    {
     "data": {
      "application/vnd.jupyter.widget-view+json": {
       "model_id": "f6e7d0ce25654226afcd4ec4c7e7a86b",
       "version_major": 2,
       "version_minor": 0
      },
      "text/plain": [
       "Month:   0%|          | 0/12 [00:00<?, ?it/s]"
      ]
     },
     "metadata": {},
     "output_type": "display_data"
    }
   ],
   "source": [
    "get_2year_intraday('AAPL')"
   ]
  },
  {
   "cell_type": "code",
   "execution_count": null,
   "metadata": {},
   "outputs": [],
   "source": []
  }
 ],
 "metadata": {
  "kernelspec": {
   "display_name": "env_scraper",
   "language": "python",
   "name": "env_scraper"
  },
  "language_info": {
   "codemirror_mode": {
    "name": "ipython",
    "version": 3
   },
   "file_extension": ".py",
   "mimetype": "text/x-python",
   "name": "python",
   "nbconvert_exporter": "python",
   "pygments_lexer": "ipython3",
   "version": "3.8.8"
  }
 },
 "nbformat": 4,
 "nbformat_minor": 4
}
