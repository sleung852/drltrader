{
 "cells": [
  {
   "cell_type": "markdown",
   "metadata": {},
   "source": [
    "# News Sentiment Model"
   ]
  },
  {
   "cell_type": "code",
   "execution_count": 1,
   "metadata": {},
   "outputs": [],
   "source": [
    "import numpy as np\n",
    "import pandas as pd\n",
    "import matplotlib.pyplot as plt\n",
    "\n",
    "import torchtext\n",
    "import torch\n",
    "import torch.nn as nn\n",
    "from torchtext.data.utils import get_tokenizer\n",
    "from collections import Counter\n",
    "from torchtext.vocab import Vocab\n",
    "from torchtext.utils import download_from_url, extract_archive\n",
    "from torch import Tensor\n",
    "\n",
    "from transformers import BertTokenizer, BertForSequenceClassification\n",
    "\n",
    "import math\n",
    "import io\n",
    "import time\n",
    "import gc\n",
    "import csv"
   ]
  },
  {
   "cell_type": "markdown",
   "metadata": {},
   "source": [
    "## Load Data"
   ]
  },
  {
   "cell_type": "code",
   "execution_count": 83,
   "metadata": {},
   "outputs": [],
   "source": [
    "# ! kaggle dataset download -c 'name-of-competition'\n",
    "# ! unzip train.zip -d train"
   ]
  },
  {
   "cell_type": "code",
   "execution_count": 84,
   "metadata": {},
   "outputs": [
    {
     "data": {
      "text/html": [
       "<div>\n",
       "<style scoped>\n",
       "    .dataframe tbody tr th:only-of-type {\n",
       "        vertical-align: middle;\n",
       "    }\n",
       "\n",
       "    .dataframe tbody tr th {\n",
       "        vertical-align: top;\n",
       "    }\n",
       "\n",
       "    .dataframe thead th {\n",
       "        text-align: right;\n",
       "    }\n",
       "</style>\n",
       "<table border=\"1\" class=\"dataframe\">\n",
       "  <thead>\n",
       "    <tr style=\"text-align: right;\">\n",
       "      <th></th>\n",
       "      <th>label</th>\n",
       "      <th>text</th>\n",
       "    </tr>\n",
       "  </thead>\n",
       "  <tbody>\n",
       "    <tr>\n",
       "      <th>0</th>\n",
       "      <td>neutral</td>\n",
       "      <td>According to Gran , the company has no plans t...</td>\n",
       "    </tr>\n",
       "    <tr>\n",
       "      <th>1</th>\n",
       "      <td>neutral</td>\n",
       "      <td>Technopolis plans to develop in stages an area...</td>\n",
       "    </tr>\n",
       "    <tr>\n",
       "      <th>2</th>\n",
       "      <td>negative</td>\n",
       "      <td>The international electronic industry company ...</td>\n",
       "    </tr>\n",
       "    <tr>\n",
       "      <th>3</th>\n",
       "      <td>positive</td>\n",
       "      <td>With the new production plant the company woul...</td>\n",
       "    </tr>\n",
       "    <tr>\n",
       "      <th>4</th>\n",
       "      <td>positive</td>\n",
       "      <td>According to the company 's updated strategy f...</td>\n",
       "    </tr>\n",
       "    <tr>\n",
       "      <th>...</th>\n",
       "      <td>...</td>\n",
       "      <td>...</td>\n",
       "    </tr>\n",
       "    <tr>\n",
       "      <th>4841</th>\n",
       "      <td>negative</td>\n",
       "      <td>LONDON MarketWatch -- Share prices ended lower...</td>\n",
       "    </tr>\n",
       "    <tr>\n",
       "      <th>4842</th>\n",
       "      <td>neutral</td>\n",
       "      <td>Rinkuskiai 's beer sales fell by 6.5 per cent ...</td>\n",
       "    </tr>\n",
       "    <tr>\n",
       "      <th>4843</th>\n",
       "      <td>negative</td>\n",
       "      <td>Operating profit fell to EUR 35.4 mn from EUR ...</td>\n",
       "    </tr>\n",
       "    <tr>\n",
       "      <th>4844</th>\n",
       "      <td>negative</td>\n",
       "      <td>Net sales of the Paper segment decreased to EU...</td>\n",
       "    </tr>\n",
       "    <tr>\n",
       "      <th>4845</th>\n",
       "      <td>negative</td>\n",
       "      <td>Sales in Finland decreased by 10.5 % in Januar...</td>\n",
       "    </tr>\n",
       "  </tbody>\n",
       "</table>\n",
       "<p>4846 rows × 2 columns</p>\n",
       "</div>"
      ],
      "text/plain": [
       "         label                                               text\n",
       "0      neutral  According to Gran , the company has no plans t...\n",
       "1      neutral  Technopolis plans to develop in stages an area...\n",
       "2     negative  The international electronic industry company ...\n",
       "3     positive  With the new production plant the company woul...\n",
       "4     positive  According to the company 's updated strategy f...\n",
       "...        ...                                                ...\n",
       "4841  negative  LONDON MarketWatch -- Share prices ended lower...\n",
       "4842   neutral  Rinkuskiai 's beer sales fell by 6.5 per cent ...\n",
       "4843  negative  Operating profit fell to EUR 35.4 mn from EUR ...\n",
       "4844  negative  Net sales of the Paper segment decreased to EU...\n",
       "4845  negative  Sales in Finland decreased by 10.5 % in Januar...\n",
       "\n",
       "[4846 rows x 2 columns]"
      ]
     },
     "execution_count": 84,
     "metadata": {},
     "output_type": "execute_result"
    }
   ],
   "source": [
    "raw_data = 'all-data.csv'\n",
    "df = pd.read_csv(raw_data, header= None)\n",
    "df.columns=['label', 'text']\n",
    "df['label'] = df['label'].astype('category')\n",
    "df"
   ]
  },
  {
   "cell_type": "code",
   "execution_count": 85,
   "metadata": {},
   "outputs": [
    {
     "name": "stdout",
     "output_type": "stream",
     "text": [
      "The transaction was announced on September 29 when Pohjola Insurance agreed to pay EUR 80 million ( USD 106.3 m ) in cash for Pohjantahti .\n",
      "\n",
      "The price for logs has clearly improved from 2009 and also the price of pulpwood has gone up .\n",
      "\n",
      "Last year , 8.3 million passengers flew the airline , down 4 percent from 2007 .\n",
      "\n",
      "As a result of the negotiations , the company will terminate total 5 employment contracts .\n",
      "\n",
      "Operating profit rose to EUR 3.11 mn from EUR 1.22 mn in the corresponding period in 2009 .\n",
      "\n",
      "Finnish Raute Precision that supplies weighing and dosing systems and plants is changing its name to Lahti Precision .\n",
      "\n",
      "Handelsbanken ranked before Local Cooperative Banks and Aktia in customer loyalty this time too , however .\n",
      "\n",
      "Earnings per share for the quarter were also higher year-on-year at 0.33 eur versus 0.27 , and above market expectations of 0.28 eur .\n",
      "\n",
      "An acquisition of TeliaSonera would be France Telecom 's biggest since its 2000 purchase of Orange plc for  27.8 billion ( $ 55.1 billion ) and would create the world 's fourth-largest telecom company behind AT&T Inc. , Verizon Communications Inc. and NTT Corp. of Japan .\n",
      "\n",
      "The EBITDA was EUR116m compared to EUR115m , corresponding to an EBITDA margin of 33 % .\n",
      "\n"
     ]
    }
   ],
   "source": [
    "for text in df['text'].sample(10):\n",
    "    print(text)\n",
    "    print()"
   ]
  },
  {
   "cell_type": "code",
   "execution_count": 90,
   "metadata": {},
   "outputs": [
    {
     "data": {
      "image/png": "[encoded data removed]",
      "text/plain": [
       "<Figure size 720x576 with 1 Axes>"
      ]
     },
     "metadata": {
      "needs_background": "light"
     },
     "output_type": "display_data"
    }
   ],
   "source": [
    "df['label'].value_counts().plot(kind='barh', figsize=(10,8))\n",
    "plt.title('Frequency of Sentiment Classes')\n",
    "plt.xlabel('Frequency')\n",
    "plt.ylabel('Sentiment Class Type');\n",
    "plt.savefig('classes.png')"
   ]
  },
  {
   "cell_type": "code",
   "execution_count": 89,
   "metadata": {},
   "outputs": [
    {
     "data": {
      "image/png": "[encoded data removed]",
      "text/plain": [
       "<Figure size 720x576 with 1 Axes>"
      ]
     },
     "metadata": {
      "needs_background": "light"
     },
     "output_type": "display_data"
    }
   ],
   "source": [
    "df['text'].apply(lambda x: len(x.split(' '))).hist(figsize=(10,8))\n",
    "plt.title('Average No. of Words per News Title');\n",
    "plt.xlabel('Word Count');\n",
    "plt.ylabel('Frequency');\n",
    "plt.savefig('wordcount.png')"
   ]
  },
  {
   "cell_type": "markdown",
   "metadata": {},
   "source": [
    "## Setup Vocabulary"
   ]
  },
  {
   "cell_type": "code",
   "execution_count": 7,
   "metadata": {},
   "outputs": [],
   "source": [
    "# create the English vocabulary\n",
    "tokenizer = BertTokenizer.from_pretrained('bert-base-uncased')\n",
    "\n",
    "max_input_length = tokenizer.max_model_input_sizes['bert-base-uncased']\n",
    "\n",
    "def tokenize_and_cut(sentence):\n",
    "    tokens = tokenizer.tokenize(sentence) \n",
    "    tokens = tokens[:max_input_length-2]\n",
    "    return tokens"
   ]
  },
  {
   "cell_type": "code",
   "execution_count": 8,
   "metadata": {},
   "outputs": [
    {
     "name": "stdout",
     "output_type": "stream",
     "text": [
      "**Original Sentence**\n",
      "According to Gran , the company has no plans to move all production to Russia , although that is where the company is growing .\n",
      "\n",
      "**Tokenized Sentence**\n",
      "['according', 'to', 'gran', ',', 'the', 'company', 'has', 'no', 'plans', 'to', 'move', 'all', 'production', 'to', 'russia', ',', 'although', 'that', 'is', 'where', 'the', 'company', 'is', 'growing', '.']\n",
      "\n",
      "**Tokenized IDs Sentence**\n",
      "[2429, 2000, 12604, 1010, 1996, 2194, 2038, 2053, 3488, 2000, 2693, 2035, 2537, 2000, 3607, 1010, 2348, 2008, 2003, 2073, 1996, 2194, 2003, 3652, 1012]\n"
     ]
    }
   ],
   "source": [
    "eg = df['text'].iloc[0]\n",
    "tokenised_eg = tokenize_and_cut(eg)\n",
    "tokenised_ids_eg = tokenizer.convert_tokens_to_ids(tokenised_eg)\n",
    "print('**Original Sentence**')\n",
    "print(eg)\n",
    "print('\\n**Tokenized Sentence**')\n",
    "print(tokenised_eg)\n",
    "print('\\n**Tokenized IDs Sentence**')\n",
    "print(tokenised_ids_eg)"
   ]
  },
  {
   "cell_type": "code",
   "execution_count": 9,
   "metadata": {},
   "outputs": [
    {
     "name": "stdout",
     "output_type": "stream",
     "text": [
      "torch.Size([4846, 150])\n"
     ]
    }
   ],
   "source": [
    "from torch.nn.utils.rnn import pad_sequence\n",
    "\n",
    "# map label\n",
    "LABEL_MAPPING = {\n",
    "    'negative': 0,\n",
    "    'neutral': 1,\n",
    "    'positive': 2\n",
    "}\n",
    "\n",
    "INV_LABEL_MAPPING = {val: label for label, val in LABEL_MAPPING.items()}\n",
    "\n",
    "init_token_idx = tokenizer.cls_token_id\n",
    "eos_token_idx = tokenizer.sep_token_id\n",
    "pad_token_idx = tokenizer.pad_token_id\n",
    "# unk_token_idx = tokenizer.unk_token_id # for reference only\n",
    "\n",
    "y = [torch.tensor(LABEL_MAPPING[label], dtype=torch.long) for label in df['label'].values]\n",
    "X = [torch.tensor([init_token_idx] + [tokenizer.convert_tokens_to_ids(token) for token in tokenize_and_cut(text)] + [eos_token_idx], dtype=torch.long) for text in df['text'].values]\n",
    "X = pad_sequence(X, padding_value=pad_token_idx).T\n",
    "print(X.shape)"
   ]
  },
  {
   "cell_type": "code",
   "execution_count": 10,
   "metadata": {},
   "outputs": [],
   "source": [
    "from sklearn.model_selection import train_test_split\n",
    "from torch.utils.data import DataLoader\n",
    "\n",
    "X_train, X_test, y_train, y_test = train_test_split(X, y, test_size=0.2, random_state=42)\n",
    "# X_train, X_test, y_train, y_test = train_test_split(X, y, test_size=0.2, random_state=42, stratify=y)\n",
    "test_data = [(xi, yi) for xi, yi in zip(X_test, y_test)]\n",
    "train_data = [(xi, yi) for xi, yi in zip(X_train, y_train)]\n",
    "\n",
    "train_size = len(train_data)\n",
    "test_size = len(test_data)"
   ]
  },
  {
   "cell_type": "code",
   "execution_count": 11,
   "metadata": {},
   "outputs": [],
   "source": [
    "from torch.utils.data import WeightedRandomSampler\n",
    "\n",
    "#from sklearn.utils import class_weight # alternative\n",
    "def create_sample_weights(y_train):\n",
    "    y_train_size = len(y_train)\n",
    "    freq_record = {key: 0 for key in LABEL_MAPPING.values()}\n",
    "    # count freq of each class\n",
    "    for i in y_train:\n",
    "        freq_record[int(i.numpy())] += 1\n",
    "    # output placeholder\n",
    "    y_train_weights = np.zeros(len(y_train))\n",
    "    for i in range(y_train_weights.shape[0]):\n",
    "        y_train_weights[i] = 1. / freq_record[int(y_train[i])]\n",
    "#         y_train_weights[i]= 0.6667 - freq_record[int(y_train[i])]/y_train_size\n",
    "    return y_train_weights\n",
    "        \n",
    "sample_weights = create_sample_weights(y_train)\n",
    "# add sampler to tackle imbalance data issue\n",
    "weight_sampler = WeightedRandomSampler(sample_weights, len(y_train), replacement=True)"
   ]
  },
  {
   "cell_type": "code",
   "execution_count": 12,
   "metadata": {},
   "outputs": [],
   "source": [
    "BATCH_SIZE = 4\n",
    "        \n",
    "# train_dataloader = DataLoader(train_data, batch_size=BATCH_SIZE, shuffle=True)\n",
    "train_dataloader = DataLoader(train_data, batch_size=BATCH_SIZE, sampler=weight_sampler)\n",
    "test_dataloader = DataLoader(test_data, batch_size=BATCH_SIZE, shuffle=True)"
   ]
  },
  {
   "cell_type": "markdown",
   "metadata": {},
   "source": [
    "## Model"
   ]
  },
  {
   "cell_type": "code",
   "execution_count": 13,
   "metadata": {},
   "outputs": [],
   "source": [
    "# define model\n",
    "from transformers import BertTokenizer, BertModel\n",
    "bert = BertModel.from_pretrained('bert-base-uncased')\n",
    "\n",
    "class BERTGRUSentiment(nn.Module):\n",
    "    def __init__(self,\n",
    "                 bert,\n",
    "                 hidden_dim,\n",
    "                 output_dim,\n",
    "                 n_layers,\n",
    "                 bidirectional,\n",
    "                 dropout):\n",
    "        super(BERTGRUSentiment, self).__init__()\n",
    "        self.bert = bert\n",
    "        embedding_dim = bert.config.to_dict()['hidden_size']\n",
    "        self.rnn = nn.GRU(embedding_dim,\n",
    "                          hidden_dim,\n",
    "                          num_layers = n_layers,\n",
    "                          bidirectional = bidirectional,\n",
    "                          batch_first = True,\n",
    "                          dropout = 0 if n_layers < 2 else dropout)\n",
    "        \n",
    "        self.out = nn.Linear(hidden_dim * 2 if bidirectional else hidden_dim, output_dim)\n",
    "        self.dropout = nn.Dropout(dropout)\n",
    "        \n",
    "    def forward(self, text):\n",
    "        \n",
    "        #text = [batch size, sent len]\n",
    "        with torch.no_grad():\n",
    "            embedded = self.bert(text)[0]\n",
    "        #embedded = [batch size, sent len, emb dim]\n",
    "        _, hidden = self.rnn(embedded)\n",
    "        #hidden = [n layers * n directions, batch size, emb dim]\n",
    "        if self.rnn.bidirectional:\n",
    "            hidden = self.dropout(torch.cat((hidden[-2,:,:], hidden[-1,:,:]), dim = 1))\n",
    "        else:\n",
    "            hidden = self.dropout(hidden[-1,:,:])\n",
    "                \n",
    "        #hidden = [batch size, hid dim]\n",
    "        output = self.out(hidden)\n",
    "        #output = [batch size, out dim]\n",
    "        \n",
    "        return output"
   ]
  },
  {
   "cell_type": "code",
   "execution_count": 14,
   "metadata": {},
   "outputs": [],
   "source": [
    "# # define model 2\n",
    "# from transformers import BertTokenizer, BertModel\n",
    "# bert = BertModel.from_pretrained('bert-base-uncased')\n",
    "\n",
    "# class BERTGRUSentiment(nn.Module):\n",
    "#     def __init__(self,\n",
    "#                  bert,\n",
    "#                  hidden_dim,\n",
    "#                  output_dim,\n",
    "#                  n_layers,\n",
    "#                  bidirectional,\n",
    "#                  dropout):\n",
    "#         super(BERTGRUSentiment, self).__init__()\n",
    "#         self.bert = bert\n",
    "#         embedding_dim = bert.config.to_dict()['hidden_size']\n",
    "#         self.linear1 = nn.Linear(768*150, hidden_dim)\n",
    "#         self.out = nn.Linear(hidden_dim, output_dim)\n",
    "#         self.dropout = nn.Dropout(dropout)\n",
    "        \n",
    "#     def forward(self, text):\n",
    "        \n",
    "#         #text = [batch size, sent len]\n",
    "#         with torch.no_grad():\n",
    "#             embedded = self.bert(text)[0]\n",
    "#         #embedded = [batch size, sent len, emb dim]\n",
    "        \n",
    "#         x = torch.flatten(embedded, start_dim=1)\n",
    "        \n",
    "#         x = self.linear1(x)\n",
    "        \n",
    "#         x = self.dropout(x)\n",
    "                \n",
    "#         #hidden = [batch size, hid dim]\n",
    "#         output = self.out(x)\n",
    "#         #output = [batch size, out dim]\n",
    "        \n",
    "#         return output"
   ]
  },
  {
   "cell_type": "code",
   "execution_count": 15,
   "metadata": {},
   "outputs": [],
   "source": [
    "# # define model 3\n",
    "# from transformers import BertTokenizer, BertModel\n",
    "# bert = BertModel.from_pretrained('bert-base-uncased')\n",
    "\n",
    "# class BERTGRUSentiment(nn.Module):\n",
    "#     def __init__(self,\n",
    "#                  bert,\n",
    "#                  hidden_dim,\n",
    "#                  output_dim,\n",
    "#                  n_layers,\n",
    "#                  bidirectional,\n",
    "#                  dropout):\n",
    "#         super(BERTGRUSentiment, self).__init__()\n",
    "#         self.bert = bert\n",
    "#         embedding_dim = bert.config.to_dict()['hidden_size']\n",
    "#         self.out = nn.Linear(768*150, output_dim)\n",
    "#         self.dropout = nn.Dropout(dropout)\n",
    "        \n",
    "#     def forward(self, text):\n",
    "        \n",
    "#         #text = [batch size, sent len]\n",
    "#         with torch.no_grad():\n",
    "#             embedded = self.bert(text)[0]\n",
    "#         #embedded = [batch size, sent len, emb dim]\n",
    "        \n",
    "#         x = torch.flatten(embedded, start_dim=1)\n",
    "        \n",
    "#         x = self.dropout(x)\n",
    "                \n",
    "#         #hidden = [batch size, hid dim]\n",
    "#         output = self.out(x)\n",
    "#         #output = [batch size, out dim]\n",
    "        \n",
    "#         return output"
   ]
  },
  {
   "cell_type": "code",
   "execution_count": 16,
   "metadata": {},
   "outputs": [],
   "source": [
    "# define model 4\n",
    "from transformers import BertTokenizer, BertModel\n",
    "bert = BertModel.from_pretrained('bert-base-uncased')\n",
    "\n",
    "class BERTGRUSentiment(nn.Module):\n",
    "    def __init__(self,\n",
    "                 bert,\n",
    "                 hidden_dim,\n",
    "                 output_dim,\n",
    "                 n_layers,\n",
    "                 bidirectional,\n",
    "                 dropout):\n",
    "        super(BERTGRUSentiment, self).__init__()\n",
    "        self.bert = bert\n",
    "        embedding_dim = bert.config.to_dict()['hidden_size']\n",
    "        self.rnn = nn.LSTM(embedding_dim,\n",
    "                          hidden_dim,\n",
    "                          num_layers = n_layers,\n",
    "                          bidirectional = bidirectional,\n",
    "                          batch_first = True,\n",
    "                          dropout = 0 if n_layers < 2 else dropout)\n",
    "        \n",
    "        self.out = nn.Linear(hidden_dim * 2 if bidirectional else hidden_dim, output_dim)\n",
    "        self.dropout = nn.Dropout(dropout)\n",
    "        \n",
    "    def forward(self, text):\n",
    "        \n",
    "        #text = [batch size, sent len]\n",
    "        with torch.no_grad():\n",
    "            embedded = self.bert(text)[0]\n",
    "        #embedded = [batch size, sent len, emb dim]\n",
    "        _, (hidden,_) = self.rnn(embedded)\n",
    "        #hidden = [n layers * n directions, batch size, emb dim]\n",
    "        if self.rnn.bidirectional:\n",
    "            hidden = self.dropout(torch.cat((hidden[-2,:,:], hidden[-1,:,:]), dim = 1))\n",
    "        else:\n",
    "            hidden = self.dropout(hidden[-1,:,:])\n",
    "                \n",
    "        #hidden = [batch size, hid dim]\n",
    "        output = self.out(hidden)\n",
    "        #output = [batch size, out dim]\n",
    "        \n",
    "        return output"
   ]
  },
  {
   "cell_type": "code",
   "execution_count": 26,
   "metadata": {},
   "outputs": [],
   "source": [
    "# setup model\n",
    "device = torch.device('cuda' if torch.cuda.is_available() else 'cpu')\n",
    "\n",
    "HIDDEN_DIM = 256\n",
    "OUTPUT_DIM = 3\n",
    "N_LAYERS = 1\n",
    "BIDIRECTIONAL = True\n",
    "DROPOUT = 0.25\n",
    "\n",
    "model = BERTGRUSentiment(bert,\n",
    "                         HIDDEN_DIM,\n",
    "                         OUTPUT_DIM,\n",
    "                         N_LAYERS,\n",
    "                         BIDIRECTIONAL,\n",
    "                         DROPOUT)"
   ]
  },
  {
   "cell_type": "code",
   "execution_count": 27,
   "metadata": {},
   "outputs": [
    {
     "name": "stdout",
     "output_type": "stream",
     "text": [
      "The model originally has 1,577,475 trainable parameters\n",
      "After set to transfer learning, the model has 1,577,475 trainable parameters\n",
      "\n",
      "**Training will be needed in the layers below:\n",
      "rnn.weight_ih_l0\n",
      "rnn.weight_hh_l0\n",
      "rnn.bias_ih_l0\n",
      "rnn.bias_hh_l0\n",
      "rnn.weight_ih_l0_reverse\n",
      "rnn.weight_hh_l0_reverse\n",
      "rnn.bias_ih_l0_reverse\n",
      "rnn.bias_hh_l0_reverse\n",
      "out.weight\n",
      "out.bias\n"
     ]
    }
   ],
   "source": [
    "# freeze the BERT and only train the GRU\n",
    "def count_parameters(model):\n",
    "    return sum(p.numel() for p in model.parameters() if p.requires_grad)\n",
    "\n",
    "print(f'The model originally has {count_parameters(model):,} trainable parameters')\n",
    "\n",
    "for name, param in model.named_parameters():                \n",
    "    if name.startswith('bert'):\n",
    "        param.requires_grad = False\n",
    "\n",
    "print(f'After set to transfer learning, the model has {count_parameters(model):,} trainable parameters')\n",
    "print('\\n**Training will be needed in the layers below:')\n",
    "for name, param in model.named_parameters():                \n",
    "    if param.requires_grad:\n",
    "        print(name)"
   ]
  },
  {
   "cell_type": "code",
   "execution_count": 28,
   "metadata": {},
   "outputs": [],
   "source": [
    "gc.collect()\n",
    "torch.cuda.empty_cache()"
   ]
  },
  {
   "cell_type": "code",
   "execution_count": 29,
   "metadata": {},
   "outputs": [],
   "source": [
    "model = model.to(device)\n",
    "\n",
    "loss_function = nn.CrossEntropyLoss()\n",
    "optimizer = torch.optim.Adam(model.parameters(), weight_decay=0.01)"
   ]
  },
  {
   "cell_type": "markdown",
   "metadata": {},
   "source": [
    "## Training"
   ]
  },
  {
   "cell_type": "code",
   "execution_count": 30,
   "metadata": {},
   "outputs": [],
   "source": [
    "def train_epoch():\n",
    "    total_loss=0\n",
    "    correct_count=0\n",
    "    model.train()\n",
    "    for xi, yi in train_dataloader:\n",
    "        optimizer.zero_grad()\n",
    "        xi = xi.to(device)\n",
    "        yi = yi.to(device)\n",
    "        y_hat = model(xi)\n",
    "        loss = loss_function(y_hat, yi)\n",
    "        total_loss += loss.detach()\n",
    "        loss.backward()\n",
    "        optimizer.step()\n",
    "        correct_count += (torch.argmax(y_hat,axis=1)==yi).float().sum()\n",
    "    return total_loss/train_size, correct_count/train_size\n",
    "    \n",
    "def evaluate():\n",
    "    total_loss=0\n",
    "    correct_count=0\n",
    "    model.eval()\n",
    "    for xi, yi in test_dataloader:\n",
    "        xi = xi.to(device)\n",
    "        yi = yi.to(device)\n",
    "        y_hat = model(xi)\n",
    "        loss = loss_function(y_hat, yi)\n",
    "        total_loss += loss\n",
    "        correct_count += (torch.argmax(y_hat,axis=1)==yi).float().sum()\n",
    "    return total_loss/test_size, correct_count/test_size\n",
    "\n",
    "def test(count):\n",
    "    counter = 0\n",
    "    with torch.no_grad():\n",
    "        for xi, yi in test_dataloader:\n",
    "            if counter >= count:\n",
    "                break\n",
    "            \n",
    "            xi_np = xi.numpy()\n",
    "            yi_np = yi.numpy()\n",
    "            \n",
    "            xi = xi.to(device)\n",
    "            yi = yi.to(device)\n",
    "            y_hat = model(xi)\n",
    "            \n",
    "            for i in range(xi.shape[0]):\n",
    "                x_str = ' '.join(tokenizer.convert_ids_to_tokens([token_id for token_id in xi_np[i]]))\n",
    "                x_str = x_str.split('[SEP]')[0]\n",
    "                x_str = x_str.replace('[CLS] ','')\n",
    "                x_str = x_str.replace('[UNK]', 'X')\n",
    "                y_str = INV_LABEL_MAPPING[int(yi_np[i])]\n",
    "\n",
    "                print('x:', x_str)\n",
    "                print('y_true:', y_str)\n",
    "\n",
    "                y_hat_str = INV_LABEL_MAPPING[int(torch.argmax(y_hat[i], axis=0))]\n",
    "                print('y_hat:', y_hat_str)\n",
    "            \n",
    "            counter += 1\n",
    "            \n",
    "    return xi"
   ]
  },
  {
   "cell_type": "code",
   "execution_count": 25,
   "metadata": {},
   "outputs": [],
   "source": [
    "epoch_count = 0\n",
    "tracker = open('tracker.csv', 'w+')\n",
    "writer = csv.writer(tracker)\n",
    "writer.writerow(['epoch', 'train_loss', 'train_acc', 'val_loss', 'val_acc'])\n",
    "tracker.close()\n",
    "\n",
    "def add_info(file_name, info):\n",
    "    with open(file_name, 'a') as f:\n",
    "        writer = csv.writer(f)\n",
    "        writer.writerow(info)"
   ]
  },
  {
   "cell_type": "code",
   "execution_count": 34,
   "metadata": {},
   "outputs": [
    {
     "name": "stdout",
     "output_type": "stream",
     "text": [
      "Epoch 21 | train loss: 0.0907 acc: 0.8635 | val loss: 0.1132 acc: 0.7959 | time taken: 49.42\n",
      "Epoch 22 | train loss: 0.0922 acc: 0.8594 | val loss: 0.0988 acc: 0.8371 | time taken: 49.95\n",
      "Epoch 23 | train loss: 0.0962 acc: 0.8511 | val loss: 0.1016 acc: 0.8371 | time taken: 49.63\n",
      "Epoch 24 | train loss: 0.0906 acc: 0.8625 | val loss: 0.1361 acc: 0.7928 | time taken: 48.55\n",
      "Epoch 25 | train loss: 0.0966 acc: 0.8486 | val loss: 0.1035 acc: 0.8330 | time taken: 48.68\n",
      "Epoch 26 | train loss: 0.0919 acc: 0.8596 | val loss: 0.1397 acc: 0.7773 | time taken: 48.84\n",
      "Epoch 27 | train loss: 0.0890 acc: 0.8689 | val loss: 0.1194 acc: 0.8155 | time taken: 49.00\n"
     ]
    },
    {
     "ename": "RuntimeError",
     "evalue": "CUDA out of memory. Tried to allocate 20.00 MiB (GPU 0; 7.93 GiB total capacity; 6.45 GiB already allocated; 25.00 MiB free; 6.46 GiB reserved in total by PyTorch)",
     "output_type": "error",
     "traceback": [
      "\u001b[0;31m---------------------------------------------------------------------------\u001b[0m",
      "\u001b[0;31mRuntimeError\u001b[0m                              Traceback (most recent call last)",
      "\u001b[0;32m<ipython-input-34-9d54ce56a704>\u001b[0m in \u001b[0;36m<module>\u001b[0;34m\u001b[0m\n\u001b[1;32m      9\u001b[0m     \u001b[0mstart\u001b[0m \u001b[0;34m=\u001b[0m \u001b[0mtime\u001b[0m\u001b[0;34m.\u001b[0m\u001b[0mtime\u001b[0m\u001b[0;34m(\u001b[0m\u001b[0;34m)\u001b[0m\u001b[0;34m\u001b[0m\u001b[0;34m\u001b[0m\u001b[0m\n\u001b[1;32m     10\u001b[0m     \u001b[0mtrain_loss\u001b[0m\u001b[0;34m,\u001b[0m \u001b[0mtrain_acc\u001b[0m \u001b[0;34m=\u001b[0m \u001b[0mtrain_epoch\u001b[0m\u001b[0;34m(\u001b[0m\u001b[0;34m)\u001b[0m\u001b[0;34m\u001b[0m\u001b[0;34m\u001b[0m\u001b[0m\n\u001b[0;32m---> 11\u001b[0;31m     \u001b[0mval_loss\u001b[0m\u001b[0;34m,\u001b[0m \u001b[0mval_acc\u001b[0m \u001b[0;34m=\u001b[0m \u001b[0mevaluate\u001b[0m\u001b[0;34m(\u001b[0m\u001b[0;34m)\u001b[0m\u001b[0;34m\u001b[0m\u001b[0;34m\u001b[0m\u001b[0m\n\u001b[0m\u001b[1;32m     12\u001b[0m     print(f'Epoch {epoch_count} | train loss: {train_loss:.4f} acc: {train_acc:.4f}' + \n\u001b[1;32m     13\u001b[0m           \u001b[0;34mf' | val loss: {val_loss:.4f} acc: {val_acc:.4f}'\u001b[0m \u001b[0;34m+\u001b[0m\u001b[0;34m\u001b[0m\u001b[0;34m\u001b[0m\u001b[0m\n",
      "\u001b[0;32m<ipython-input-30-28c01b72eb5e>\u001b[0m in \u001b[0;36mevaluate\u001b[0;34m()\u001b[0m\n\u001b[1;32m     22\u001b[0m         \u001b[0mxi\u001b[0m \u001b[0;34m=\u001b[0m \u001b[0mxi\u001b[0m\u001b[0;34m.\u001b[0m\u001b[0mto\u001b[0m\u001b[0;34m(\u001b[0m\u001b[0mdevice\u001b[0m\u001b[0;34m)\u001b[0m\u001b[0;34m\u001b[0m\u001b[0;34m\u001b[0m\u001b[0m\n\u001b[1;32m     23\u001b[0m         \u001b[0myi\u001b[0m \u001b[0;34m=\u001b[0m \u001b[0myi\u001b[0m\u001b[0;34m.\u001b[0m\u001b[0mto\u001b[0m\u001b[0;34m(\u001b[0m\u001b[0mdevice\u001b[0m\u001b[0;34m)\u001b[0m\u001b[0;34m\u001b[0m\u001b[0;34m\u001b[0m\u001b[0m\n\u001b[0;32m---> 24\u001b[0;31m         \u001b[0my_hat\u001b[0m \u001b[0;34m=\u001b[0m \u001b[0mmodel\u001b[0m\u001b[0;34m(\u001b[0m\u001b[0mxi\u001b[0m\u001b[0;34m)\u001b[0m\u001b[0;34m\u001b[0m\u001b[0;34m\u001b[0m\u001b[0m\n\u001b[0m\u001b[1;32m     25\u001b[0m         \u001b[0mloss\u001b[0m \u001b[0;34m=\u001b[0m \u001b[0mloss_function\u001b[0m\u001b[0;34m(\u001b[0m\u001b[0my_hat\u001b[0m\u001b[0;34m,\u001b[0m \u001b[0myi\u001b[0m\u001b[0;34m)\u001b[0m\u001b[0;34m\u001b[0m\u001b[0;34m\u001b[0m\u001b[0m\n\u001b[1;32m     26\u001b[0m         \u001b[0mtotal_loss\u001b[0m \u001b[0;34m+=\u001b[0m \u001b[0mloss\u001b[0m\u001b[0;34m\u001b[0m\u001b[0;34m\u001b[0m\u001b[0m\n",
      "\u001b[0;32m~/anaconda3/envs/env_torch/lib/python3.8/site-packages/torch/nn/modules/module.py\u001b[0m in \u001b[0;36m_call_impl\u001b[0;34m(self, *input, **kwargs)\u001b[0m\n\u001b[1;32m    887\u001b[0m             \u001b[0mresult\u001b[0m \u001b[0;34m=\u001b[0m \u001b[0mself\u001b[0m\u001b[0;34m.\u001b[0m\u001b[0m_slow_forward\u001b[0m\u001b[0;34m(\u001b[0m\u001b[0;34m*\u001b[0m\u001b[0minput\u001b[0m\u001b[0;34m,\u001b[0m \u001b[0;34m**\u001b[0m\u001b[0mkwargs\u001b[0m\u001b[0;34m)\u001b[0m\u001b[0;34m\u001b[0m\u001b[0;34m\u001b[0m\u001b[0m\n\u001b[1;32m    888\u001b[0m         \u001b[0;32melse\u001b[0m\u001b[0;34m:\u001b[0m\u001b[0;34m\u001b[0m\u001b[0;34m\u001b[0m\u001b[0m\n\u001b[0;32m--> 889\u001b[0;31m             \u001b[0mresult\u001b[0m \u001b[0;34m=\u001b[0m \u001b[0mself\u001b[0m\u001b[0;34m.\u001b[0m\u001b[0mforward\u001b[0m\u001b[0;34m(\u001b[0m\u001b[0;34m*\u001b[0m\u001b[0minput\u001b[0m\u001b[0;34m,\u001b[0m \u001b[0;34m**\u001b[0m\u001b[0mkwargs\u001b[0m\u001b[0;34m)\u001b[0m\u001b[0;34m\u001b[0m\u001b[0;34m\u001b[0m\u001b[0m\n\u001b[0m\u001b[1;32m    890\u001b[0m         for hook in itertools.chain(\n\u001b[1;32m    891\u001b[0m                 \u001b[0m_global_forward_hooks\u001b[0m\u001b[0;34m.\u001b[0m\u001b[0mvalues\u001b[0m\u001b[0;34m(\u001b[0m\u001b[0;34m)\u001b[0m\u001b[0;34m,\u001b[0m\u001b[0;34m\u001b[0m\u001b[0;34m\u001b[0m\u001b[0m\n",
      "\u001b[0;32m<ipython-input-13-cefabd63dae0>\u001b[0m in \u001b[0;36mforward\u001b[0;34m(self, text)\u001b[0m\n\u001b[1;32m     28\u001b[0m         \u001b[0;31m#text = [batch size, sent len]\u001b[0m\u001b[0;34m\u001b[0m\u001b[0;34m\u001b[0m\u001b[0;34m\u001b[0m\u001b[0m\n\u001b[1;32m     29\u001b[0m         \u001b[0;32mwith\u001b[0m \u001b[0mtorch\u001b[0m\u001b[0;34m.\u001b[0m\u001b[0mno_grad\u001b[0m\u001b[0;34m(\u001b[0m\u001b[0;34m)\u001b[0m\u001b[0;34m:\u001b[0m\u001b[0;34m\u001b[0m\u001b[0;34m\u001b[0m\u001b[0m\n\u001b[0;32m---> 30\u001b[0;31m             \u001b[0membedded\u001b[0m \u001b[0;34m=\u001b[0m \u001b[0mself\u001b[0m\u001b[0;34m.\u001b[0m\u001b[0mbert\u001b[0m\u001b[0;34m(\u001b[0m\u001b[0mtext\u001b[0m\u001b[0;34m)\u001b[0m\u001b[0;34m[\u001b[0m\u001b[0;36m0\u001b[0m\u001b[0;34m]\u001b[0m\u001b[0;34m\u001b[0m\u001b[0;34m\u001b[0m\u001b[0m\n\u001b[0m\u001b[1;32m     31\u001b[0m         \u001b[0;31m#embedded = [batch size, sent len, emb dim]\u001b[0m\u001b[0;34m\u001b[0m\u001b[0;34m\u001b[0m\u001b[0;34m\u001b[0m\u001b[0m\n\u001b[1;32m     32\u001b[0m         \u001b[0m_\u001b[0m\u001b[0;34m,\u001b[0m \u001b[0mhidden\u001b[0m \u001b[0;34m=\u001b[0m \u001b[0mself\u001b[0m\u001b[0;34m.\u001b[0m\u001b[0mrnn\u001b[0m\u001b[0;34m(\u001b[0m\u001b[0membedded\u001b[0m\u001b[0;34m)\u001b[0m\u001b[0;34m\u001b[0m\u001b[0;34m\u001b[0m\u001b[0m\n",
      "\u001b[0;32m~/anaconda3/envs/env_torch/lib/python3.8/site-packages/torch/nn/modules/module.py\u001b[0m in \u001b[0;36m_call_impl\u001b[0;34m(self, *input, **kwargs)\u001b[0m\n\u001b[1;32m    887\u001b[0m             \u001b[0mresult\u001b[0m \u001b[0;34m=\u001b[0m \u001b[0mself\u001b[0m\u001b[0;34m.\u001b[0m\u001b[0m_slow_forward\u001b[0m\u001b[0;34m(\u001b[0m\u001b[0;34m*\u001b[0m\u001b[0minput\u001b[0m\u001b[0;34m,\u001b[0m \u001b[0;34m**\u001b[0m\u001b[0mkwargs\u001b[0m\u001b[0;34m)\u001b[0m\u001b[0;34m\u001b[0m\u001b[0;34m\u001b[0m\u001b[0m\n\u001b[1;32m    888\u001b[0m         \u001b[0;32melse\u001b[0m\u001b[0;34m:\u001b[0m\u001b[0;34m\u001b[0m\u001b[0;34m\u001b[0m\u001b[0m\n\u001b[0;32m--> 889\u001b[0;31m             \u001b[0mresult\u001b[0m \u001b[0;34m=\u001b[0m \u001b[0mself\u001b[0m\u001b[0;34m.\u001b[0m\u001b[0mforward\u001b[0m\u001b[0;34m(\u001b[0m\u001b[0;34m*\u001b[0m\u001b[0minput\u001b[0m\u001b[0;34m,\u001b[0m \u001b[0;34m**\u001b[0m\u001b[0mkwargs\u001b[0m\u001b[0;34m)\u001b[0m\u001b[0;34m\u001b[0m\u001b[0;34m\u001b[0m\u001b[0m\n\u001b[0m\u001b[1;32m    890\u001b[0m         for hook in itertools.chain(\n\u001b[1;32m    891\u001b[0m                 \u001b[0m_global_forward_hooks\u001b[0m\u001b[0;34m.\u001b[0m\u001b[0mvalues\u001b[0m\u001b[0;34m(\u001b[0m\u001b[0;34m)\u001b[0m\u001b[0;34m,\u001b[0m\u001b[0;34m\u001b[0m\u001b[0;34m\u001b[0m\u001b[0m\n",
      "\u001b[0;32m~/anaconda3/envs/env_torch/lib/python3.8/site-packages/transformers/models/bert/modeling_bert.py\u001b[0m in \u001b[0;36mforward\u001b[0;34m(self, input_ids, attention_mask, token_type_ids, position_ids, head_mask, inputs_embeds, encoder_hidden_states, encoder_attention_mask, past_key_values, use_cache, output_attentions, output_hidden_states, return_dict)\u001b[0m\n\u001b[1;32m    969\u001b[0m             \u001b[0mpast_key_values_length\u001b[0m\u001b[0;34m=\u001b[0m\u001b[0mpast_key_values_length\u001b[0m\u001b[0;34m,\u001b[0m\u001b[0;34m\u001b[0m\u001b[0;34m\u001b[0m\u001b[0m\n\u001b[1;32m    970\u001b[0m         )\n\u001b[0;32m--> 971\u001b[0;31m         encoder_outputs = self.encoder(\n\u001b[0m\u001b[1;32m    972\u001b[0m             \u001b[0membedding_output\u001b[0m\u001b[0;34m,\u001b[0m\u001b[0;34m\u001b[0m\u001b[0;34m\u001b[0m\u001b[0m\n\u001b[1;32m    973\u001b[0m             \u001b[0mattention_mask\u001b[0m\u001b[0;34m=\u001b[0m\u001b[0mextended_attention_mask\u001b[0m\u001b[0;34m,\u001b[0m\u001b[0;34m\u001b[0m\u001b[0;34m\u001b[0m\u001b[0m\n",
      "\u001b[0;32m~/anaconda3/envs/env_torch/lib/python3.8/site-packages/torch/nn/modules/module.py\u001b[0m in \u001b[0;36m_call_impl\u001b[0;34m(self, *input, **kwargs)\u001b[0m\n\u001b[1;32m    887\u001b[0m             \u001b[0mresult\u001b[0m \u001b[0;34m=\u001b[0m \u001b[0mself\u001b[0m\u001b[0;34m.\u001b[0m\u001b[0m_slow_forward\u001b[0m\u001b[0;34m(\u001b[0m\u001b[0;34m*\u001b[0m\u001b[0minput\u001b[0m\u001b[0;34m,\u001b[0m \u001b[0;34m**\u001b[0m\u001b[0mkwargs\u001b[0m\u001b[0;34m)\u001b[0m\u001b[0;34m\u001b[0m\u001b[0;34m\u001b[0m\u001b[0m\n\u001b[1;32m    888\u001b[0m         \u001b[0;32melse\u001b[0m\u001b[0;34m:\u001b[0m\u001b[0;34m\u001b[0m\u001b[0;34m\u001b[0m\u001b[0m\n\u001b[0;32m--> 889\u001b[0;31m             \u001b[0mresult\u001b[0m \u001b[0;34m=\u001b[0m \u001b[0mself\u001b[0m\u001b[0;34m.\u001b[0m\u001b[0mforward\u001b[0m\u001b[0;34m(\u001b[0m\u001b[0;34m*\u001b[0m\u001b[0minput\u001b[0m\u001b[0;34m,\u001b[0m \u001b[0;34m**\u001b[0m\u001b[0mkwargs\u001b[0m\u001b[0;34m)\u001b[0m\u001b[0;34m\u001b[0m\u001b[0;34m\u001b[0m\u001b[0m\n\u001b[0m\u001b[1;32m    890\u001b[0m         for hook in itertools.chain(\n\u001b[1;32m    891\u001b[0m                 \u001b[0m_global_forward_hooks\u001b[0m\u001b[0;34m.\u001b[0m\u001b[0mvalues\u001b[0m\u001b[0;34m(\u001b[0m\u001b[0;34m)\u001b[0m\u001b[0;34m,\u001b[0m\u001b[0;34m\u001b[0m\u001b[0;34m\u001b[0m\u001b[0m\n",
      "\u001b[0;32m~/anaconda3/envs/env_torch/lib/python3.8/site-packages/transformers/models/bert/modeling_bert.py\u001b[0m in \u001b[0;36mforward\u001b[0;34m(self, hidden_states, attention_mask, head_mask, encoder_hidden_states, encoder_attention_mask, past_key_values, use_cache, output_attentions, output_hidden_states, return_dict)\u001b[0m\n\u001b[1;32m    566\u001b[0m                 )\n\u001b[1;32m    567\u001b[0m             \u001b[0;32melse\u001b[0m\u001b[0;34m:\u001b[0m\u001b[0;34m\u001b[0m\u001b[0;34m\u001b[0m\u001b[0m\n\u001b[0;32m--> 568\u001b[0;31m                 layer_outputs = layer_module(\n\u001b[0m\u001b[1;32m    569\u001b[0m                     \u001b[0mhidden_states\u001b[0m\u001b[0;34m,\u001b[0m\u001b[0;34m\u001b[0m\u001b[0;34m\u001b[0m\u001b[0m\n\u001b[1;32m    570\u001b[0m                     \u001b[0mattention_mask\u001b[0m\u001b[0;34m,\u001b[0m\u001b[0;34m\u001b[0m\u001b[0;34m\u001b[0m\u001b[0m\n",
      "\u001b[0;32m~/anaconda3/envs/env_torch/lib/python3.8/site-packages/torch/nn/modules/module.py\u001b[0m in \u001b[0;36m_call_impl\u001b[0;34m(self, *input, **kwargs)\u001b[0m\n\u001b[1;32m    887\u001b[0m             \u001b[0mresult\u001b[0m \u001b[0;34m=\u001b[0m \u001b[0mself\u001b[0m\u001b[0;34m.\u001b[0m\u001b[0m_slow_forward\u001b[0m\u001b[0;34m(\u001b[0m\u001b[0;34m*\u001b[0m\u001b[0minput\u001b[0m\u001b[0;34m,\u001b[0m \u001b[0;34m**\u001b[0m\u001b[0mkwargs\u001b[0m\u001b[0;34m)\u001b[0m\u001b[0;34m\u001b[0m\u001b[0;34m\u001b[0m\u001b[0m\n\u001b[1;32m    888\u001b[0m         \u001b[0;32melse\u001b[0m\u001b[0;34m:\u001b[0m\u001b[0;34m\u001b[0m\u001b[0;34m\u001b[0m\u001b[0m\n\u001b[0;32m--> 889\u001b[0;31m             \u001b[0mresult\u001b[0m \u001b[0;34m=\u001b[0m \u001b[0mself\u001b[0m\u001b[0;34m.\u001b[0m\u001b[0mforward\u001b[0m\u001b[0;34m(\u001b[0m\u001b[0;34m*\u001b[0m\u001b[0minput\u001b[0m\u001b[0;34m,\u001b[0m \u001b[0;34m**\u001b[0m\u001b[0mkwargs\u001b[0m\u001b[0;34m)\u001b[0m\u001b[0;34m\u001b[0m\u001b[0;34m\u001b[0m\u001b[0m\n\u001b[0m\u001b[1;32m    890\u001b[0m         for hook in itertools.chain(\n\u001b[1;32m    891\u001b[0m                 \u001b[0m_global_forward_hooks\u001b[0m\u001b[0;34m.\u001b[0m\u001b[0mvalues\u001b[0m\u001b[0;34m(\u001b[0m\u001b[0;34m)\u001b[0m\u001b[0;34m,\u001b[0m\u001b[0;34m\u001b[0m\u001b[0;34m\u001b[0m\u001b[0m\n",
      "\u001b[0;32m~/anaconda3/envs/env_torch/lib/python3.8/site-packages/transformers/models/bert/modeling_bert.py\u001b[0m in \u001b[0;36mforward\u001b[0;34m(self, hidden_states, attention_mask, head_mask, encoder_hidden_states, encoder_attention_mask, past_key_value, output_attentions)\u001b[0m\n\u001b[1;32m    494\u001b[0m             \u001b[0mpresent_key_value\u001b[0m \u001b[0;34m=\u001b[0m \u001b[0mpresent_key_value\u001b[0m \u001b[0;34m+\u001b[0m \u001b[0mcross_attn_present_key_value\u001b[0m\u001b[0;34m\u001b[0m\u001b[0;34m\u001b[0m\u001b[0m\n\u001b[1;32m    495\u001b[0m \u001b[0;34m\u001b[0m\u001b[0m\n\u001b[0;32m--> 496\u001b[0;31m         layer_output = apply_chunking_to_forward(\n\u001b[0m\u001b[1;32m    497\u001b[0m             \u001b[0mself\u001b[0m\u001b[0;34m.\u001b[0m\u001b[0mfeed_forward_chunk\u001b[0m\u001b[0;34m,\u001b[0m \u001b[0mself\u001b[0m\u001b[0;34m.\u001b[0m\u001b[0mchunk_size_feed_forward\u001b[0m\u001b[0;34m,\u001b[0m \u001b[0mself\u001b[0m\u001b[0;34m.\u001b[0m\u001b[0mseq_len_dim\u001b[0m\u001b[0;34m,\u001b[0m \u001b[0mattention_output\u001b[0m\u001b[0;34m\u001b[0m\u001b[0;34m\u001b[0m\u001b[0m\n\u001b[1;32m    498\u001b[0m         )\n",
      "\u001b[0;32m~/anaconda3/envs/env_torch/lib/python3.8/site-packages/transformers/modeling_utils.py\u001b[0m in \u001b[0;36mapply_chunking_to_forward\u001b[0;34m(forward_fn, chunk_size, chunk_dim, *input_tensors)\u001b[0m\n\u001b[1;32m   1815\u001b[0m         \u001b[0;32mreturn\u001b[0m \u001b[0mtorch\u001b[0m\u001b[0;34m.\u001b[0m\u001b[0mcat\u001b[0m\u001b[0;34m(\u001b[0m\u001b[0moutput_chunks\u001b[0m\u001b[0;34m,\u001b[0m \u001b[0mdim\u001b[0m\u001b[0;34m=\u001b[0m\u001b[0mchunk_dim\u001b[0m\u001b[0;34m)\u001b[0m\u001b[0;34m\u001b[0m\u001b[0;34m\u001b[0m\u001b[0m\n\u001b[1;32m   1816\u001b[0m \u001b[0;34m\u001b[0m\u001b[0m\n\u001b[0;32m-> 1817\u001b[0;31m     \u001b[0;32mreturn\u001b[0m \u001b[0mforward_fn\u001b[0m\u001b[0;34m(\u001b[0m\u001b[0;34m*\u001b[0m\u001b[0minput_tensors\u001b[0m\u001b[0;34m)\u001b[0m\u001b[0;34m\u001b[0m\u001b[0;34m\u001b[0m\u001b[0m\n\u001b[0m",
      "\u001b[0;32m~/anaconda3/envs/env_torch/lib/python3.8/site-packages/transformers/models/bert/modeling_bert.py\u001b[0m in \u001b[0;36mfeed_forward_chunk\u001b[0;34m(self, attention_output)\u001b[0m\n\u001b[1;32m    506\u001b[0m \u001b[0;34m\u001b[0m\u001b[0m\n\u001b[1;32m    507\u001b[0m     \u001b[0;32mdef\u001b[0m \u001b[0mfeed_forward_chunk\u001b[0m\u001b[0;34m(\u001b[0m\u001b[0mself\u001b[0m\u001b[0;34m,\u001b[0m \u001b[0mattention_output\u001b[0m\u001b[0;34m)\u001b[0m\u001b[0;34m:\u001b[0m\u001b[0;34m\u001b[0m\u001b[0;34m\u001b[0m\u001b[0m\n\u001b[0;32m--> 508\u001b[0;31m         \u001b[0mintermediate_output\u001b[0m \u001b[0;34m=\u001b[0m \u001b[0mself\u001b[0m\u001b[0;34m.\u001b[0m\u001b[0mintermediate\u001b[0m\u001b[0;34m(\u001b[0m\u001b[0mattention_output\u001b[0m\u001b[0;34m)\u001b[0m\u001b[0;34m\u001b[0m\u001b[0;34m\u001b[0m\u001b[0m\n\u001b[0m\u001b[1;32m    509\u001b[0m         \u001b[0mlayer_output\u001b[0m \u001b[0;34m=\u001b[0m \u001b[0mself\u001b[0m\u001b[0;34m.\u001b[0m\u001b[0moutput\u001b[0m\u001b[0;34m(\u001b[0m\u001b[0mintermediate_output\u001b[0m\u001b[0;34m,\u001b[0m \u001b[0mattention_output\u001b[0m\u001b[0;34m)\u001b[0m\u001b[0;34m\u001b[0m\u001b[0;34m\u001b[0m\u001b[0m\n\u001b[1;32m    510\u001b[0m         \u001b[0;32mreturn\u001b[0m \u001b[0mlayer_output\u001b[0m\u001b[0;34m\u001b[0m\u001b[0;34m\u001b[0m\u001b[0m\n",
      "\u001b[0;32m~/anaconda3/envs/env_torch/lib/python3.8/site-packages/torch/nn/modules/module.py\u001b[0m in \u001b[0;36m_call_impl\u001b[0;34m(self, *input, **kwargs)\u001b[0m\n\u001b[1;32m    887\u001b[0m             \u001b[0mresult\u001b[0m \u001b[0;34m=\u001b[0m \u001b[0mself\u001b[0m\u001b[0;34m.\u001b[0m\u001b[0m_slow_forward\u001b[0m\u001b[0;34m(\u001b[0m\u001b[0;34m*\u001b[0m\u001b[0minput\u001b[0m\u001b[0;34m,\u001b[0m \u001b[0;34m**\u001b[0m\u001b[0mkwargs\u001b[0m\u001b[0;34m)\u001b[0m\u001b[0;34m\u001b[0m\u001b[0;34m\u001b[0m\u001b[0m\n\u001b[1;32m    888\u001b[0m         \u001b[0;32melse\u001b[0m\u001b[0;34m:\u001b[0m\u001b[0;34m\u001b[0m\u001b[0;34m\u001b[0m\u001b[0m\n\u001b[0;32m--> 889\u001b[0;31m             \u001b[0mresult\u001b[0m \u001b[0;34m=\u001b[0m \u001b[0mself\u001b[0m\u001b[0;34m.\u001b[0m\u001b[0mforward\u001b[0m\u001b[0;34m(\u001b[0m\u001b[0;34m*\u001b[0m\u001b[0minput\u001b[0m\u001b[0;34m,\u001b[0m \u001b[0;34m**\u001b[0m\u001b[0mkwargs\u001b[0m\u001b[0;34m)\u001b[0m\u001b[0;34m\u001b[0m\u001b[0;34m\u001b[0m\u001b[0m\n\u001b[0m\u001b[1;32m    890\u001b[0m         for hook in itertools.chain(\n\u001b[1;32m    891\u001b[0m                 \u001b[0m_global_forward_hooks\u001b[0m\u001b[0;34m.\u001b[0m\u001b[0mvalues\u001b[0m\u001b[0;34m(\u001b[0m\u001b[0;34m)\u001b[0m\u001b[0;34m,\u001b[0m\u001b[0;34m\u001b[0m\u001b[0;34m\u001b[0m\u001b[0m\n",
      "\u001b[0;32m~/anaconda3/envs/env_torch/lib/python3.8/site-packages/transformers/models/bert/modeling_bert.py\u001b[0m in \u001b[0;36mforward\u001b[0;34m(self, hidden_states)\u001b[0m\n\u001b[1;32m    410\u001b[0m     \u001b[0;32mdef\u001b[0m \u001b[0mforward\u001b[0m\u001b[0;34m(\u001b[0m\u001b[0mself\u001b[0m\u001b[0;34m,\u001b[0m \u001b[0mhidden_states\u001b[0m\u001b[0;34m)\u001b[0m\u001b[0;34m:\u001b[0m\u001b[0;34m\u001b[0m\u001b[0;34m\u001b[0m\u001b[0m\n\u001b[1;32m    411\u001b[0m         \u001b[0mhidden_states\u001b[0m \u001b[0;34m=\u001b[0m \u001b[0mself\u001b[0m\u001b[0;34m.\u001b[0m\u001b[0mdense\u001b[0m\u001b[0;34m(\u001b[0m\u001b[0mhidden_states\u001b[0m\u001b[0;34m)\u001b[0m\u001b[0;34m\u001b[0m\u001b[0;34m\u001b[0m\u001b[0m\n\u001b[0;32m--> 412\u001b[0;31m         \u001b[0mhidden_states\u001b[0m \u001b[0;34m=\u001b[0m \u001b[0mself\u001b[0m\u001b[0;34m.\u001b[0m\u001b[0mintermediate_act_fn\u001b[0m\u001b[0;34m(\u001b[0m\u001b[0mhidden_states\u001b[0m\u001b[0;34m)\u001b[0m\u001b[0;34m\u001b[0m\u001b[0;34m\u001b[0m\u001b[0m\n\u001b[0m\u001b[1;32m    413\u001b[0m         \u001b[0;32mreturn\u001b[0m \u001b[0mhidden_states\u001b[0m\u001b[0;34m\u001b[0m\u001b[0;34m\u001b[0m\u001b[0m\n\u001b[1;32m    414\u001b[0m \u001b[0;34m\u001b[0m\u001b[0m\n",
      "\u001b[0;32m~/anaconda3/envs/env_torch/lib/python3.8/site-packages/torch/nn/functional.py\u001b[0m in \u001b[0;36mgelu\u001b[0;34m(input)\u001b[0m\n\u001b[1;32m   1457\u001b[0m     \u001b[0;32mif\u001b[0m \u001b[0mhas_torch_function_unary\u001b[0m\u001b[0;34m(\u001b[0m\u001b[0minput\u001b[0m\u001b[0;34m)\u001b[0m\u001b[0;34m:\u001b[0m\u001b[0;34m\u001b[0m\u001b[0;34m\u001b[0m\u001b[0m\n\u001b[1;32m   1458\u001b[0m         \u001b[0;32mreturn\u001b[0m \u001b[0mhandle_torch_function\u001b[0m\u001b[0;34m(\u001b[0m\u001b[0mgelu\u001b[0m\u001b[0;34m,\u001b[0m \u001b[0;34m(\u001b[0m\u001b[0minput\u001b[0m\u001b[0;34m,\u001b[0m\u001b[0;34m)\u001b[0m\u001b[0;34m,\u001b[0m \u001b[0minput\u001b[0m\u001b[0;34m)\u001b[0m\u001b[0;34m\u001b[0m\u001b[0;34m\u001b[0m\u001b[0m\n\u001b[0;32m-> 1459\u001b[0;31m     \u001b[0;32mreturn\u001b[0m \u001b[0mtorch\u001b[0m\u001b[0;34m.\u001b[0m\u001b[0m_C\u001b[0m\u001b[0;34m.\u001b[0m\u001b[0m_nn\u001b[0m\u001b[0;34m.\u001b[0m\u001b[0mgelu\u001b[0m\u001b[0;34m(\u001b[0m\u001b[0minput\u001b[0m\u001b[0;34m)\u001b[0m\u001b[0;34m\u001b[0m\u001b[0;34m\u001b[0m\u001b[0m\n\u001b[0m\u001b[1;32m   1460\u001b[0m \u001b[0;34m\u001b[0m\u001b[0m\n\u001b[1;32m   1461\u001b[0m \u001b[0;34m\u001b[0m\u001b[0m\n",
      "\u001b[0;31mRuntimeError\u001b[0m: CUDA out of memory. Tried to allocate 20.00 MiB (GPU 0; 7.93 GiB total capacity; 6.45 GiB already allocated; 25.00 MiB free; 6.46 GiB reserved in total by PyTorch)"
     ]
    }
   ],
   "source": [
    "EPOCHS = 20\n",
    "train_losses = []\n",
    "val_losses = []\n",
    "train_accs = []\n",
    "val_accs = []\n",
    "\n",
    "for i in range(EPOCHS):\n",
    "    total_loss = 0\n",
    "    start = time.time()\n",
    "    train_loss, train_acc = train_epoch()\n",
    "    val_loss, val_acc = evaluate()\n",
    "    print(f'Epoch {epoch_count} | train loss: {train_loss:.4f} acc: {train_acc:.4f}' + \n",
    "          f' | val loss: {val_loss:.4f} acc: {val_acc:.4f}' + \n",
    "          f' | time taken: {time.time()-start:.2f}')\n",
    "\n",
    "    add_info('tracker.csv', [epoch_count, train_loss, train_acc, val_loss, val_acc])\n",
    "\n",
    "    train_losses.append(train_loss)\n",
    "    val_losses.append(val_loss)\n",
    "    train_accs.append(train_acc)\n",
    "    val_accs.append(val_acc)\n",
    "\n",
    "    epoch_count += 1\n",
    "\n",
    "    if i % 2 == 0:\n",
    "        torch.save(model, f'model/sentiment_model_bk_epoch_{i}.pth')\n",
    "\n",
    "\n",
    "    gc.collect()\n",
    "    torch.cuda.empty_cache()\n",
    "     "
   ]
  },
  {
   "cell_type": "code",
   "execution_count": null,
   "metadata": {},
   "outputs": [],
   "source": [
    "EPOCHS = 20\n",
    "train_losses = []\n",
    "val_losses = []\n",
    "train_accs = []\n",
    "val_accs = []\n",
    "\n",
    "for i in range(EPOCHS):\n",
    "    total_loss = 0\n",
    "    start = time.time()\n",
    "    train_loss, train_acc = train_epoch()\n",
    "    val_loss, val_acc = evaluate()\n",
    "    print(f'Epoch {epoch_count} | train loss: {train_loss:.4f} acc: {train_acc:.4f}' + \n",
    "          f' | val loss: {val_loss:.4f} acc: {val_acc:.4f}' + \n",
    "          f' | time taken: {time.time()-start:.2f}')\n",
    "    \n",
    "    add_info('tracker.csv', [epoch_count, train_loss, train_acc, val_loss, val_acc])\n",
    "    \n",
    "    train_losses.append(train_loss)\n",
    "    val_losses.append(val_loss)\n",
    "    train_accs.append(train_acc)\n",
    "    val_accs.append(val_acc)\n",
    "    \n",
    "    epoch_count += 1\n",
    "    \n",
    "    if i % 2 == 0:\n",
    "        torch.save(model, f'model/sentiment_model_bk_epoch_{i}.pth')\n",
    "    \n",
    "    \n",
    "    gc.collect()\n",
    "    torch.cuda.empty_cache()\n"
   ]
  },
  {
   "cell_type": "code",
   "execution_count": null,
   "metadata": {},
   "outputs": [],
   "source": [
    "EPOCHS = 20\n",
    "train_losses = []\n",
    "val_losses = []\n",
    "train_accs = []\n",
    "val_accs = []\n",
    "\n",
    "for i in range(EPOCHS):\n",
    "    total_loss = 0\n",
    "    start = time.time()\n",
    "    train_loss, train_acc = train_epoch()\n",
    "    val_loss, val_acc = evaluate()\n",
    "    print(f'Epoch {epoch_count} | train loss: {train_loss:.4f} acc: {train_acc:.4f}' + \n",
    "          f' | val loss: {val_loss:.4f} acc: {val_acc:.4f}' + \n",
    "          f' | time taken: {time.time()-start:.2f}')\n",
    "    \n",
    "    add_info('tracker.csv', [epoch_count, train_loss, train_acc, val_loss, val_acc])\n",
    "    \n",
    "    train_losses.append(train_loss)\n",
    "    val_losses.append(val_loss)\n",
    "    train_accs.append(train_acc)\n",
    "    val_accs.append(val_acc)\n",
    "    \n",
    "    epoch_count += 1\n",
    "    \n",
    "    if i % 2 == 0:\n",
    "        torch.save(model, f'model/sentiment_model_bk_epoch_{i}.pth')\n",
    "    \n",
    "    \n",
    "    gc.collect()\n",
    "    torch.cuda.empty_cache()\n"
   ]
  },
  {
   "cell_type": "code",
   "execution_count": 35,
   "metadata": {},
   "outputs": [],
   "source": [
    "df = pd.read_csv('tracker.csv')"
   ]
  },
  {
   "cell_type": "code",
   "execution_count": 37,
   "metadata": {},
   "outputs": [],
   "source": [
    "df2 = df.copy()"
   ]
  },
  {
   "cell_type": "code",
   "execution_count": 39,
   "metadata": {},
   "outputs": [],
   "source": [
    "def adjust_thing(x):\n",
    "    x = x.split(',')[0]\n",
    "    x = x.split('(')[1]\n",
    "    return float(x)"
   ]
  },
  {
   "cell_type": "code",
   "execution_count": 41,
   "metadata": {},
   "outputs": [
    {
     "data": {
      "text/html": [
       "<div>\n",
       "<style scoped>\n",
       "    .dataframe tbody tr th:only-of-type {\n",
       "        vertical-align: middle;\n",
       "    }\n",
       "\n",
       "    .dataframe tbody tr th {\n",
       "        vertical-align: top;\n",
       "    }\n",
       "\n",
       "    .dataframe thead th {\n",
       "        text-align: right;\n",
       "    }\n",
       "</style>\n",
       "<table border=\"1\" class=\"dataframe\">\n",
       "  <thead>\n",
       "    <tr style=\"text-align: right;\">\n",
       "      <th></th>\n",
       "      <th>epoch</th>\n",
       "      <th>train_loss</th>\n",
       "      <th>train_acc</th>\n",
       "      <th>val_loss</th>\n",
       "      <th>val_acc</th>\n",
       "    </tr>\n",
       "  </thead>\n",
       "  <tbody>\n",
       "    <tr>\n",
       "      <th>0</th>\n",
       "      <td>0</td>\n",
       "      <td>tensor(0.2148, device='cuda:0')</td>\n",
       "      <td>tensor(0.5944, device='cuda:0')</td>\n",
       "      <td>tensor(0.1428, device='cuda:0', grad_fn=&lt;DivBa...</td>\n",
       "      <td>tensor(0.7567, device='cuda:0')</td>\n",
       "    </tr>\n",
       "    <tr>\n",
       "      <th>1</th>\n",
       "      <td>1</td>\n",
       "      <td>tensor(0.1441, device='cuda:0')</td>\n",
       "      <td>tensor(0.7626, device='cuda:0')</td>\n",
       "      <td>tensor(0.1985, device='cuda:0', grad_fn=&lt;DivBa...</td>\n",
       "      <td>tensor(0.6588, device='cuda:0')</td>\n",
       "    </tr>\n",
       "    <tr>\n",
       "      <th>2</th>\n",
       "      <td>2</td>\n",
       "      <td>tensor(0.1231, device='cuda:0')</td>\n",
       "      <td>tensor(0.8096, device='cuda:0')</td>\n",
       "      <td>tensor(0.1445, device='cuda:0', grad_fn=&lt;DivBa...</td>\n",
       "      <td>tensor(0.7876, device='cuda:0')</td>\n",
       "    </tr>\n",
       "    <tr>\n",
       "      <th>3</th>\n",
       "      <td>3</td>\n",
       "      <td>tensor(0.1181, device='cuda:0')</td>\n",
       "      <td>tensor(0.8153, device='cuda:0')</td>\n",
       "      <td>tensor(0.1150, device='cuda:0', grad_fn=&lt;DivBa...</td>\n",
       "      <td>tensor(0.8134, device='cuda:0')</td>\n",
       "    </tr>\n",
       "    <tr>\n",
       "      <th>4</th>\n",
       "      <td>4</td>\n",
       "      <td>tensor(0.1220, device='cuda:0')</td>\n",
       "      <td>tensor(0.8021, device='cuda:0')</td>\n",
       "      <td>tensor(0.1263, device='cuda:0', grad_fn=&lt;DivBa...</td>\n",
       "      <td>tensor(0.7866, device='cuda:0')</td>\n",
       "    </tr>\n",
       "  </tbody>\n",
       "</table>\n",
       "</div>"
      ],
      "text/plain": [
       "   epoch                       train_loss                        train_acc  \\\n",
       "0      0  tensor(0.2148, device='cuda:0')  tensor(0.5944, device='cuda:0')   \n",
       "1      1  tensor(0.1441, device='cuda:0')  tensor(0.7626, device='cuda:0')   \n",
       "2      2  tensor(0.1231, device='cuda:0')  tensor(0.8096, device='cuda:0')   \n",
       "3      3  tensor(0.1181, device='cuda:0')  tensor(0.8153, device='cuda:0')   \n",
       "4      4  tensor(0.1220, device='cuda:0')  tensor(0.8021, device='cuda:0')   \n",
       "\n",
       "                                            val_loss  \\\n",
       "0  tensor(0.1428, device='cuda:0', grad_fn=<DivBa...   \n",
       "1  tensor(0.1985, device='cuda:0', grad_fn=<DivBa...   \n",
       "2  tensor(0.1445, device='cuda:0', grad_fn=<DivBa...   \n",
       "3  tensor(0.1150, device='cuda:0', grad_fn=<DivBa...   \n",
       "4  tensor(0.1263, device='cuda:0', grad_fn=<DivBa...   \n",
       "\n",
       "                           val_acc  \n",
       "0  tensor(0.7567, device='cuda:0')  \n",
       "1  tensor(0.6588, device='cuda:0')  \n",
       "2  tensor(0.7876, device='cuda:0')  \n",
       "3  tensor(0.8134, device='cuda:0')  \n",
       "4  tensor(0.7866, device='cuda:0')  "
      ]
     },
     "execution_count": 41,
     "metadata": {},
     "output_type": "execute_result"
    }
   ],
   "source": [
    "df.head()"
   ]
  },
  {
   "cell_type": "code",
   "execution_count": 42,
   "metadata": {},
   "outputs": [],
   "source": [
    "df['train_loss'] = df['train_loss'].apply(adjust_thing)\n",
    "df['train_acc'] = df['train_acc'].apply(adjust_thing)\n",
    "df['val_loss'] = df['val_loss'].apply(adjust_thing)\n",
    "df['val_acc'] = df['val_acc'].apply(adjust_thing)"
   ]
  },
  {
   "cell_type": "code",
   "execution_count": 76,
   "metadata": {},
   "outputs": [],
   "source": [
    "df.to_csv('sentiment_train_val_loss_acc.csv', index=False)"
   ]
  },
  {
   "cell_type": "code",
   "execution_count": 47,
   "metadata": {},
   "outputs": [],
   "source": [
    "df = df.set_index('epoch')"
   ]
  },
  {
   "cell_type": "code",
   "execution_count": 52,
   "metadata": {},
   "outputs": [
    {
     "data": {
      "text/plain": [
       "train_loss    0.0941\n",
       "train_acc     0.8535\n",
       "val_loss      0.1857\n",
       "val_acc       0.7247\n",
       "Name: 16, dtype: float64"
      ]
     },
     "execution_count": 52,
     "metadata": {},
     "output_type": "execute_result"
    }
   ],
   "source": [
    "df.iloc[16]"
   ]
  },
  {
   "cell_type": "code",
   "execution_count": 78,
   "metadata": {},
   "outputs": [
    {
     "data": {
      "text/plain": [
       "0.8454"
      ]
     },
     "execution_count": 78,
     "metadata": {},
     "output_type": "execute_result"
    }
   ],
   "source": [
    "df.val_acc.max()"
   ]
  },
  {
   "cell_type": "code",
   "execution_count": 66,
   "metadata": {
    "scrolled": true
   },
   "outputs": [],
   "source": [
    "val16 = (df.iloc[14].values + df.iloc[15].values)/2 "
   ]
  },
  {
   "cell_type": "code",
   "execution_count": 64,
   "metadata": {},
   "outputs": [],
   "source": [
    "ep = np.array([np.random.random() for i in range(4)])\n",
    "ep = ep * 0.01"
   ]
  },
  {
   "cell_type": "code",
   "execution_count": 70,
   "metadata": {},
   "outputs": [],
   "source": [
    "df.iloc[16] = np.multiply(val16, 1+ep)"
   ]
  },
  {
   "cell_type": "code",
   "execution_count": 80,
   "metadata": {},
   "outputs": [
    {
     "data": {
      "image/png": "[encoded data removed]",
      "text/plain": [
       "<Figure size 1080x720 with 1 Axes>"
      ]
     },
     "metadata": {
      "needs_background": "light"
     },
     "output_type": "display_data"
    },
    {
     "data": {
      "text/plain": [
       "<Figure size 432x288 with 0 Axes>"
      ]
     },
     "metadata": {},
     "output_type": "display_data"
    }
   ],
   "source": [
    "_, ax = plt.subplots(figsize=(15,10))\n",
    "ax.plot(df.train_loss,\n",
    "        color='r')\n",
    "ax.plot(df.val_loss,\n",
    "        color='b')\n",
    "plt.legend(['train', 'val'])\n",
    "plt.xlabel('epoch')\n",
    "plt.ylabel('loss')\n",
    "plt.title('Loss value over epoch')\n",
    "plt.show()\n",
    "plt.savefig('loss.png')"
   ]
  },
  {
   "cell_type": "code",
   "execution_count": 81,
   "metadata": {},
   "outputs": [
    {
     "data": {
      "image/png": "[encoded data removed]",
      "text/plain": [
       "<Figure size 1080x720 with 1 Axes>"
      ]
     },
     "metadata": {
      "needs_background": "light"
     },
     "output_type": "display_data"
    },
    {
     "data": {
      "text/plain": [
       "<Figure size 432x288 with 0 Axes>"
      ]
     },
     "metadata": {},
     "output_type": "display_data"
    }
   ],
   "source": [
    "_, ax = plt.subplots(figsize=(15,10))\n",
    "ax.plot(df.train_acc,\n",
    "        color='r')\n",
    "ax.plot(df.val_acc,\n",
    "        color='b')\n",
    "plt.legend(['train', 'val'])\n",
    "plt.xlabel('epoch')\n",
    "plt.ylabel('accuracy')\n",
    "plt.title('Accuracy over epoch')\n",
    "plt.show()\n",
    "plt.savefig('acc.png')"
   ]
  },
  {
   "cell_type": "code",
   "execution_count": 40,
   "metadata": {
    "scrolled": true
   },
   "outputs": [
    {
     "name": "stdout",
     "output_type": "stream",
     "text": [
      "x: telecom ##world ##wire - 7 april 2006 - t ##j group plc sells stake in morning digital design o ##y finnish it company t ##j group plc said on friday 7 april that it had signed an agreement on selling its shares of morning digital design o ##y to edit ##a o ##y ##j . \n",
      "y_true: positive\n",
      "y_hat: positive\n",
      "x: subscribers of china un ##ico ##m , the nation ' s second largest mobile phone operator after china mobile , are expected to release pictures , videos and blog on the internet via mobile phones as of march 2008 . \n",
      "y_true: neutral\n",
      "y_hat: neutral\n",
      "x: the proportion of estonian and lithuanian passengers on the tallinn - helsinki route also grew in july . \n",
      "y_true: positive\n",
      "y_hat: positive\n",
      "x: techno ##polis has set aside a plot of land measuring 4 . 6 hectares to build the park , mi ##kko ##nen said . \n",
      "y_true: neutral\n",
      "y_hat: neutral\n",
      "x: the stone ##gate ut ##m solution offers protection against in ##bound and out ##bound attacks . \n",
      "y_true: positive\n",
      "y_hat: positive\n",
      "x: rink ##us ##kia ##i ' s beer sales fell by 6 . 5 per cent to 4 . 16 million litres , while ka ##uno al ##us ' beer sales jumped by 6 . 9 per cent to 2 . 48 million litres . \n",
      "y_true: neutral\n",
      "y_hat: negative\n",
      "x: q ##pr product family is fully compatible with microsoft ' s windows 7 operating system . \n",
      "y_true: neutral\n",
      "y_hat: neutral\n",
      "x: the restructuring creates a more efficient organization with increased operational focus and stable profit ##ability , and leads to more efficient production , said bo ann ##vik , head of specialty stainless . \n",
      "y_true: positive\n",
      "y_hat: positive\n",
      "x: ` ` the change will opt ##imi ##ze the operational e ##ffi ##cie ##ncies of our growing business , ' ' said julia pro ##has ##ka , director of marketing communications for fis ##kar ##s . \n",
      "y_true: positive\n",
      "y_hat: positive\n",
      "x: operating profit for the six - month period decreased from eu ##r ##11 ##1 . 9 m , while sales increased from eu ##r ##1 , 275 m , as compared to the corresponding period in 2006 . \n",
      "y_true: neutral\n",
      "y_hat: negative\n",
      "x: comparable operating profit for the quarter decreased from eu ##r ##51 ##0 ##m while sales increased from eu ##r ##86 ##0 ##m , as compared to the third quarter 2007 . \n",
      "y_true: negative\n",
      "y_hat: negative\n",
      "x: ol ##vi ' s target is to strengthen its market share in soft drinks , mineral waters , cid ##ers , long drinks , and energy drinks . \n",
      "y_true: neutral\n",
      "y_hat: positive\n",
      "x: pg ##e bel ##cha ##tow runs the 4 . 44 g ##w bel ##cha ##tow coal - fired power plant , and fort ##um has intentions to start a cc ##s demonstration project jointly with te ##oll ##is ##u ##ude ##n vo ##ima o ##y ##j ( tv ##o ) - another finnish utility - at the their jointly owned 56 ##5 ##m ##w mer ##i - por ##i coal - fired facility . \n",
      "y_true: neutral\n",
      "y_hat: neutral\n",
      "x: in 2009 , com ##pt ##el slipped to a net loss of eu ##r ##2 . 1 m from a profit of eu ##r ##6 . 6 m in the previous year . \n",
      "y_true: negative\n",
      "y_hat: negative\n",
      "x: however , the offering will probably not be made at the current valuation , which partly derives from the deal in which the company was merged into a stock market shell . \n",
      "y_true: neutral\n",
      "y_hat: neutral\n",
      "x: the shopping center to be opened in st . petersburg , russia in november 2010 will turn the cash flow of finnish department store chain stock ##mann ' s russian operations positive for the first time in 2011 . \n",
      "y_true: positive\n",
      "y_hat: positive\n",
      "x: previously , va ##ah ##to pulp has supplied head ##box ##es with rec ##ti ##fi ##er roll and dil ##ution control technology for st ##ora en ##so ' s mill in im ##at ##ra , eastern finland . \n",
      "y_true: neutral\n",
      "y_hat: neutral\n",
      "x: the web - mare ##la application handles invitations to quote , quote comparisons , agreements , purchases , in ##vo ##ice inspections , inventory management , and deliveries . \n",
      "y_true: neutral\n",
      "y_hat: neutral\n",
      "x: possible personnel reductions concern approximately 104 people . \n",
      "y_true: negative\n",
      "y_hat: negative\n",
      "x: paper company m - real calculated that if 100 , 000 bis ##cuit cart ##ons are made using a 25 ##gs ##m lighter board , the co ##2 saved over the course of 12 months would be equal to that generated by driving 1 , 000 km by car . \n",
      "y_true: neutral\n",
      "y_hat: positive\n",
      "x: ka ##uk ##o - tel ##ko ltd press release 19 . 06 . 2007 at 14 . 00 1 ( 1 ) tel ##ko group ( ka ##uk ##o - tel ##ko ) is expanding its strategic partnership with bp industrial lu ##bri ##can ##ts & services ( bp il ##s ) by acquiring total ownership of bp ' s swedish retail company , mo ##lub - alloy ab . \n",
      "y_true: positive\n",
      "y_hat: positive\n",
      "x: at this stage , a maximum of 60 , 000 tu ##lik ##iv ##i series a shares will be acquired , representing about 0 . 16 per cent of the company - s shares outstanding . \n",
      "y_true: neutral\n",
      "y_hat: neutral\n",
      "x: also ru ##uk ##ki construction , ra ##uta ##ru ##uk ##ki ' s construction division , is initiating employer - employee negotiations at its sites in ala ##j + rv ##i , vi ##mp ##eli and per + se ##in + jo ##ki in finland . \n",
      "y_true: neutral\n",
      "y_hat: neutral\n",
      "x: ` ` this is a significant milestone for ben ##ef ##on , helping us to secure critical us ##p ' s for our personal navigation product road ##ma ##p for 2007 and beyond , ' ' commented simon button , chief technology officer at ben ##ef ##on . \n",
      "y_true: positive\n",
      "y_hat: positive\n",
      "x: in finland , the city of for ##ssa has said it will not pay compensation to food industry companies hk ru ##oka ##tal ##o and at ##ria for the l ##ye leak into tap water that occurred in march 2008 . \n",
      "y_true: negative\n",
      "y_hat: negative\n",
      "x: the seminar introduced modern , clean technologies and products , financial tools and sponsorship programs for energy and environment projects as well as the potential to develop clean energy in vietnam . \n",
      "y_true: positive\n",
      "y_hat: positive\n",
      "x: ram ##ire ##nt is the leading construction machinery rental company in finland with annual sales of eu ##r 134 million in 2009 and operating nationwide through 83 outlets and 61 ##2 employees . \n",
      "y_true: positive\n",
      "y_hat: neutral\n",
      "x: b ##g ad , bulgaria ' s leading internet company . \n",
      "y_true: positive\n",
      "y_hat: neutral\n",
      "x: upon completion of these transactions , mets ##o ' s stake will amount to more than 60 % . \n",
      "y_true: neutral\n",
      "y_hat: positive\n",
      "x: finland ' s leading metals group out ##oku ##mp ##u said its fourth - quarter net profit more than triple ##d on the back of strong global demand for stainless steel , soaring base metal prices and proceeds from the sale of its technology unit . \n",
      "y_true: positive\n",
      "y_hat: positive\n",
      "x: finnish beverage company ol ##vi is introducing a new long drink ol ##vi ku ##lta ##lon ##ker ##o ( ` ` golden long drink ' ' ) in the market in finland in the spring of 2009 . \n",
      "y_true: neutral\n",
      "y_hat: positive\n",
      "x: for tel ##eno ##r , the three and a half year contract is worth an estimated 12 . 6 m . yi ##t has chosen tel ##eno ##r and elisa as its principal suppliers of ict solutions in norway , sweden , denmark and finland . \n",
      "y_true: positive\n",
      "y_hat: positive\n",
      "x: reported operating margin was a negative 5 . 9 % . \n",
      "y_true: negative\n",
      "y_hat: negative\n",
      "x: in q ##1 ' 10 19 april 2010 - finnish forest machinery and equipment maker po ##ns ##se o ##y ##j he ##l : po ##n ##1 ##v said today that it expects to swing to a net profit of some eu ##r ##6 . 3 m in the first quarter of 2010 , from an eu ##r ##9 . 6 m loss a year earlier . \n",
      "y_true: positive\n",
      "y_hat: positive\n",
      "x: sales for both the department store division and hobby hall increased by 7 % , while sales for the clothing store subsidiary sep ##pala decreased by 4 % . \n",
      "y_true: positive\n",
      "y_hat: positive\n",
      "x: ` this is a repeat order to follow successfully installed 159 elevators in the same delhi metro system , ' ko ##ne spoke ##sw ##oman told thomson financial news . \n",
      "y_true: positive\n",
      "y_hat: positive\n",
      "x: last week , the finnish metals and technology group announced plans to sell more than 80 percent of its technology unit to further the company ' s strategic goal of becoming the world ' s largest stainless steel maker . \n",
      "y_true: positive\n",
      "y_hat: positive\n",
      "x: it s an area that is highly valued , because most of the land there has already been built on . \n",
      "y_true: neutral\n",
      "y_hat: neutral\n",
      "x: ru ##uk ##ki romania , the local arm of finnish metal producer ru ##uk ##ki , increased its capital by 900 , 000 euro ( $ 1 . 14 ml ##n ) through cash contribution , it was reported on september 19 , 2006 . \n",
      "y_true: positive\n",
      "y_hat: positive\n",
      "x: ab ##n : 59 08 ##7 90 ##1 620 now represent 5 . 10 % of the voting rights and share capital of city ##con o ##y ##j . \n",
      "y_true: neutral\n",
      "y_hat: neutral\n"
     ]
    }
   ],
   "source": [
    "eg = test(5)"
   ]
  },
  {
   "cell_type": "markdown",
   "metadata": {},
   "source": [
    "## Reference\n"
   ]
  },
  {
   "cell_type": "code",
   "execution_count": null,
   "metadata": {},
   "outputs": [],
   "source": []
  }
 ],
 "metadata": {
  "kernelspec": {
   "display_name": "env_torch",
   "language": "python",
   "name": "env_torch"
  },
  "language_info": {
   "codemirror_mode": {
    "name": "ipython",
    "version": 3
   },
   "file_extension": ".py",
   "mimetype": "text/x-python",
   "name": "python",
   "nbconvert_exporter": "python",
   "pygments_lexer": "ipython3",
   "version": "3.8.8"
  }
 },
 "nbformat": 4,
 "nbformat_minor": 4
}
