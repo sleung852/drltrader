{
 "cells": [
  {
   "cell_type": "markdown",
   "metadata": {},
   "source": [
    "# News Sentiment Model"
   ]
  },
  {
   "cell_type": "code",
   "execution_count": 1,
   "metadata": {},
   "outputs": [],
   "source": [
    "import numpy as np\n",
    "import pandas as pd\n",
    "import matplotlib.pyplot as plt\n",
    "\n",
    "import torchtext\n",
    "import torch\n",
    "import torch.nn as nn\n",
    "from torchtext.data.utils import get_tokenizer\n",
    "from collections import Counter\n",
    "from torchtext.vocab import Vocab\n",
    "from torchtext.utils import download_from_url, extract_archive\n",
    "from torch import Tensor\n",
    "\n",
    "import math\n",
    "import io\n",
    "import time"
   ]
  },
  {
   "cell_type": "markdown",
   "metadata": {},
   "source": [
    "## Load Data"
   ]
  },
  {
   "cell_type": "code",
   "execution_count": 2,
   "metadata": {},
   "outputs": [],
   "source": [
    "# ! kaggle dataset download -c 'name-of-competition'\n",
    "# ! unzip train.zip -d train"
   ]
  },
  {
   "cell_type": "code",
   "execution_count": 3,
   "metadata": {},
   "outputs": [
    {
     "data": {
      "text/html": [
       "<div>\n",
       "<style scoped>\n",
       "    .dataframe tbody tr th:only-of-type {\n",
       "        vertical-align: middle;\n",
       "    }\n",
       "\n",
       "    .dataframe tbody tr th {\n",
       "        vertical-align: top;\n",
       "    }\n",
       "\n",
       "    .dataframe thead th {\n",
       "        text-align: right;\n",
       "    }\n",
       "</style>\n",
       "<table border=\"1\" class=\"dataframe\">\n",
       "  <thead>\n",
       "    <tr style=\"text-align: right;\">\n",
       "      <th></th>\n",
       "      <th>label</th>\n",
       "      <th>text</th>\n",
       "    </tr>\n",
       "  </thead>\n",
       "  <tbody>\n",
       "    <tr>\n",
       "      <th>0</th>\n",
       "      <td>neutral</td>\n",
       "      <td>According to Gran , the company has no plans t...</td>\n",
       "    </tr>\n",
       "    <tr>\n",
       "      <th>1</th>\n",
       "      <td>neutral</td>\n",
       "      <td>Technopolis plans to develop in stages an area...</td>\n",
       "    </tr>\n",
       "    <tr>\n",
       "      <th>2</th>\n",
       "      <td>negative</td>\n",
       "      <td>The international electronic industry company ...</td>\n",
       "    </tr>\n",
       "    <tr>\n",
       "      <th>3</th>\n",
       "      <td>positive</td>\n",
       "      <td>With the new production plant the company woul...</td>\n",
       "    </tr>\n",
       "    <tr>\n",
       "      <th>4</th>\n",
       "      <td>positive</td>\n",
       "      <td>According to the company 's updated strategy f...</td>\n",
       "    </tr>\n",
       "  </tbody>\n",
       "</table>\n",
       "</div>"
      ],
      "text/plain": [
       "      label                                               text\n",
       "0   neutral  According to Gran , the company has no plans t...\n",
       "1   neutral  Technopolis plans to develop in stages an area...\n",
       "2  negative  The international electronic industry company ...\n",
       "3  positive  With the new production plant the company woul...\n",
       "4  positive  According to the company 's updated strategy f..."
      ]
     },
     "execution_count": 3,
     "metadata": {},
     "output_type": "execute_result"
    }
   ],
   "source": [
    "raw_data = 'all-data.csv'\n",
    "df = pd.read_csv(raw_data, header= None)\n",
    "df.columns=['label', 'text']\n",
    "df['label'] = df['label'].astype('category')\n",
    "df.head()"
   ]
  },
  {
   "cell_type": "code",
   "execution_count": 4,
   "metadata": {},
   "outputs": [
    {
     "name": "stdout",
     "output_type": "stream",
     "text": [
      "Turnover rose to EUR21m from EUR17m .\n",
      "The sales of the Tiimari segment fell by 4.0 % year-on-year to EUR3 .3 m in June 2010 .\n",
      "We are very proud to be able to use this kind of innovative mobile service for voting in elections .\n",
      "This corrensponds to 4.628 percent of Okmetic 's share capital and voting rights .\n",
      "Possible personnel reductions concern approximately 104 people .\n",
      "The Americas represents 25 % of Gemalto 's billing , and Latin America is one of the fastest growing regions for the company .\n",
      "Both operating profit and net sales for the 12-month period increased , respectively from EUR10 .5 m and EUR28 .8 m , as compared to the financial year 2004 .\n",
      "Finnish energy company Fortum Oyj said on November 13 , 2007 it was granted an environmental permit to build a biofuel-fired combined heat and power CHP plant in Vartan harbor in eastern Stockholm .\n",
      "One of the installed elevators will be a double-deck elevator , which enables more efficient use of the building 's core space .\n",
      "The buyer aims to thus reinforce its position in Denmark , Martela Group managing director Heikki Martela said .\n"
     ]
    }
   ],
   "source": [
    "for news in df['text'].sample(10):\n",
    "    print(news)"
   ]
  },
  {
   "cell_type": "code",
   "execution_count": 5,
   "metadata": {},
   "outputs": [
    {
     "data": {
      "image/png": "[encoded data removed]",
      "text/plain": [
       "<Figure size 432x288 with 1 Axes>"
      ]
     },
     "metadata": {
      "needs_background": "light"
     },
     "output_type": "display_data"
    }
   ],
   "source": [
    "df['label'].value_counts().plot(kind='barh')\n",
    "plt.title('Frequency of Sentiment Classes')\n",
    "plt.xlabel('Frequency')\n",
    "plt.ylabel('Sentiment Class Type');"
   ]
  },
  {
   "cell_type": "code",
   "execution_count": 6,
   "metadata": {
    "scrolled": true
   },
   "outputs": [
    {
     "data": {
      "image/png": "[encoded data removed]",
      "text/plain": [
       "<Figure size 432x288 with 1 Axes>"
      ]
     },
     "metadata": {
      "needs_background": "light"
     },
     "output_type": "display_data"
    }
   ],
   "source": [
    "df['text'].apply(lambda x: len(x.split(' '))).hist()\n",
    "plt.title('Average No. of Words per News Title');\n",
    "plt.xlabel('Word Count');\n",
    "plt.ylabel('Frequency');"
   ]
  },
  {
   "cell_type": "markdown",
   "metadata": {},
   "source": [
    "## Setup Vocabulary"
   ]
  },
  {
   "cell_type": "code",
   "execution_count": 7,
   "metadata": {},
   "outputs": [],
   "source": [
    "# create the English vocabulary\n",
    "en_tokenizer = get_tokenizer('spacy', language='en_core_web_sm')\n",
    "\n",
    "counter = Counter()\n",
    "    \n",
    "for _, row in df.iterrows():\n",
    "    text = row['text']\n",
    "    text = text.lower()\n",
    "    counter.update(en_tokenizer(text))\n",
    "\n",
    "en_vocab = Vocab(counter, max_size=40000, specials=['<unk>', '<pad>', '<bos>', '<eos>'])\n",
    "vocab_size = len(en_vocab)"
   ]
  },
  {
   "cell_type": "code",
   "execution_count": 8,
   "metadata": {},
   "outputs": [
    {
     "name": "stdout",
     "output_type": "stream",
     "text": [
      "torch.Size([4846, 90])\n"
     ]
    }
   ],
   "source": [
    "from torch.nn.utils.rnn import pad_sequence\n",
    "\n",
    "# map data\n",
    "LABEL_MAPPING = {\n",
    "    'negative': 0,\n",
    "    'neutral': 1,\n",
    "    'positive': 2\n",
    "}\n",
    "\n",
    "INV_LABEL_MAPPING = {val: label for label, val in LABEL_MAPPING.items()}\n",
    "\n",
    "PAD_IDX = en_vocab['<pad>']\n",
    "BOS_IDX = en_vocab['<bos>']\n",
    "EOS_IDX = en_vocab['<eos>']\n",
    "\n",
    "y = [torch.tensor(LABEL_MAPPING[label], dtype=torch.long) for label in df['label'].values]\n",
    "X = [torch.tensor([BOS_IDX] + [en_vocab[token] for token in en_tokenizer(text)] + [EOS_IDX], dtype=torch.long) for text in df['text'].values]\n",
    "X = pad_sequence(X, padding_value=PAD_IDX).T\n",
    "print(X.shape)"
   ]
  },
  {
   "cell_type": "code",
   "execution_count": 9,
   "metadata": {},
   "outputs": [],
   "source": [
    "from sklearn.model_selection import train_test_split\n",
    "from torch.utils.data import DataLoader\n",
    "\n",
    "X_train, X_test, y_train, y_test = train_test_split(X, y, test_size=0.2, random_state=42)\n",
    "# X_train, X_test, y_train, y_test = train_test_split(X, y, test_size=0.2, random_state=42, stratify=y)\n",
    "test_data = [(xi, yi) for xi, yi in zip(X_test, y_test)]\n",
    "train_data = [(xi, yi) for xi, yi in zip(X_train, y_train)]\n",
    "\n",
    "train_size = len(train_data)\n",
    "test_size = len(test_data)"
   ]
  },
  {
   "cell_type": "code",
   "execution_count": 168,
   "metadata": {},
   "outputs": [],
   "source": [
    "from sklearn.utils import class_weight\n",
    "\n"
   ]
  },
  {
   "cell_type": "code",
   "execution_count": 10,
   "metadata": {},
   "outputs": [],
   "source": [
    "from torch.utils.data import WeightedRandomSampler\n",
    "\n",
    "def create_sample_weights(y_train):\n",
    "    y_train_size = len(y_train)\n",
    "    freq_record = {key: 0 for key in LABEL_MAPPING.values()}\n",
    "    # count freq of each class\n",
    "    for i in y_train:\n",
    "        freq_record[int(i.numpy())] += 1\n",
    "    # output placeholder\n",
    "    y_train_weights = np.zeros(len(y_train))\n",
    "    for i in range(y_train_weights.shape[0]):\n",
    "        y_train_weights[i] = 1. / freq_record[int(y_train[i])]\n",
    "#         y_train_weights[i]= 0.6667 - freq_record[int(y_train[i])]/y_train_size\n",
    "    return y_train_weights\n",
    "        \n",
    "sample_weights = create_sample_weights(y_train)\n",
    "# add sampler to tackle imbalance data issue\n",
    "weight_sampler = WeightedRandomSampler(sample_weights, len(y_train), replacement=True)"
   ]
  },
  {
   "cell_type": "code",
   "execution_count": 11,
   "metadata": {},
   "outputs": [],
   "source": [
    "BATCH_SIZE = 8\n",
    "        \n",
    "# train_dataloader = DataLoader(train_data, batch_size=BATCH_SIZE, shuffle=True)\n",
    "train_dataloader = DataLoader(train_data, batch_size=BATCH_SIZE, sampler=weight_sampler)\n",
    "test_dataloader = DataLoader(test_data, batch_size=BATCH_SIZE, shuffle=True)"
   ]
  },
  {
   "cell_type": "code",
   "execution_count": 12,
   "metadata": {},
   "outputs": [
    {
     "data": {
      "text/plain": [
       "torch.Size([10, 86, 64])"
      ]
     },
     "execution_count": 12,
     "metadata": {},
     "output_type": "execute_result"
    }
   ],
   "source": [
    "# quick test\n",
    "eg = torch.randint(vocab_size, (10,86), dtype=torch.long)\n",
    "vocab_size_eg = 1000\n",
    "embed = nn.Embedding(vocab_size, 64)\n",
    "out = embed(eg)\n",
    "out.shape"
   ]
  },
  {
   "cell_type": "markdown",
   "metadata": {},
   "source": [
    "## Model"
   ]
  },
  {
   "cell_type": "code",
   "execution_count": 13,
   "metadata": {},
   "outputs": [],
   "source": [
    "# define model\n",
    "class NewsSentiment(nn.Module):\n",
    "    def __init__(self, embedding_dim, hidden_size, num_layers):\n",
    "        super(NewsSentiment, self).__init__()\n",
    "        self.embedding = nn.Embedding(vocab_size, embedding_dim=embedding_dim) # output -> (embedding_dim, sentence_len)\n",
    "        self.lstm = nn.LSTM(input_size=embedding_dim,\n",
    "                            hidden_size=hidden_size,\n",
    "                            num_layers=num_layers,\n",
    "                           bidirectional=True) # output -> (embedding_dim,)\n",
    "        self.fc1 = nn.Linear(hidden_size*2, 128)\n",
    "        self.relu = nn.LeakyReLU\n",
    "        self.dropout = nn.Dropout(0.2)\n",
    "        self.fc2 = nn.Linear(128, 3)\n",
    "        \n",
    "    def forward(self, inx):\n",
    "        out = self.embedding(inx)\n",
    "        out,_ = self.lstm(out)\n",
    "        out = out[:,-1,:] # only wants the last layer of the LSTM\n",
    "        out = self.fc1(out)\n",
    "        out = self.relu(out)\n",
    "        out = self.dropout(out)\n",
    "        out = self.fc2(out)\n",
    "        return out"
   ]
  },
  {
   "cell_type": "code",
   "execution_count": 17,
   "metadata": {},
   "outputs": [],
   "source": [
    "# setup model\n",
    "device = torch.device('cuda' if torch.cuda.is_available() else 'cpu')\n",
    "\n",
    "EMBEDDING_SIZE=32\n",
    "HIDDEN_SIZE=128\n",
    "NUM_LAYERS=1\n",
    "\n",
    "model = NewsSentiment(EMBEDDING_SIZE, HIDDEN_SIZE, NUM_LAYERS)\n",
    "model.to(device)\n",
    "\n",
    "loss_function = nn.CrossEntropyLoss()\n",
    "optimizer = torch.optim.Adam(model.parameters(), lr=0.0001, weight_decay=0.01)"
   ]
  },
  {
   "cell_type": "markdown",
   "metadata": {},
   "source": [
    "## Training"
   ]
  },
  {
   "cell_type": "code",
   "execution_count": 18,
   "metadata": {},
   "outputs": [],
   "source": [
    "def train_epoch():\n",
    "    total_loss=0\n",
    "    correct_count=0\n",
    "    model.train()\n",
    "    for xi, yi in train_dataloader:\n",
    "        optimizer.zero_grad()\n",
    "        xi = xi.to(device)\n",
    "        yi = yi.to(device)\n",
    "        y_hat = model(xi)\n",
    "        loss = loss_function(y_hat, yi)\n",
    "        total_loss += loss.detach()\n",
    "        loss.backward()\n",
    "        optimizer.step()\n",
    "        correct_count += (torch.argmax(y_hat,axis=1)==yi).float().sum()\n",
    "    return total_loss/train_size, correct_count/train_size\n",
    "    \n",
    "def evaluate():\n",
    "    total_loss=0\n",
    "    correct_count=0\n",
    "    model.eval()\n",
    "    for xi, yi in test_dataloader:\n",
    "        xi = xi.to(device)\n",
    "        yi = yi.to(device)\n",
    "        y_hat = model(xi)\n",
    "        loss = loss_function(y_hat, yi)\n",
    "        total_loss += loss\n",
    "        correct_count += (torch.argmax(y_hat,axis=1)==yi).float().sum()\n",
    "    return total_loss/test_size, correct_count/test_size\n",
    "\n",
    "def test(count):\n",
    "    counter = 0\n",
    "    with torch.no_grad():\n",
    "        for xi, yi in test_dataloader:\n",
    "            if counter >= count:\n",
    "                break\n",
    "            \n",
    "            xi_np = xi.numpy()\n",
    "            yi_np = yi.numpy()\n",
    "            \n",
    "            xi = xi.to(device)\n",
    "            yi = yi.to(device)\n",
    "            y_hat = model(xi)\n",
    "            \n",
    "            for i in range(xi.shape[0]):\n",
    "                x_str = ' '.join([en_vocab.itos[i] for i in xi_np[i]])\n",
    "                x_str = x_str.split('<eos')[0]\n",
    "                x_str = x_str.replace('<bos> ','')\n",
    "                x_str = x_str.replace('<unk>', 'X')\n",
    "                y_str = INV_LABEL_MAPPING[int(yi_np[i])]\n",
    "\n",
    "                print('x:', x_str)\n",
    "                print('y_true:', y_str)\n",
    "\n",
    "                y_hat_str = INV_LABEL_MAPPING[int(torch.argmax(y_hat[i], axis=0))]\n",
    "                print('y_hat:', y_hat_str)\n",
    "            \n",
    "            counter += 1\n",
    "            \n",
    "    return xi"
   ]
  },
  {
   "cell_type": "code",
   "execution_count": 19,
   "metadata": {},
   "outputs": [
    {
     "name": "stdout",
     "output_type": "stream",
     "text": [
      "Epoch 0 | train loss: 0.1376 | train acc: 0.3338 | val loss: 0.1360 | val acc: 0.5887\n"
     ]
    },
    {
     "ename": "RuntimeError",
     "evalue": "cuDNN error: CUDNN_STATUS_EXECUTION_FAILED",
     "output_type": "error",
     "traceback": [
      "\u001b[0;31m---------------------------------------------------------------------------\u001b[0m",
      "\u001b[0;31mRuntimeError\u001b[0m                              Traceback (most recent call last)",
      "\u001b[0;32m<ipython-input-19-35f325a6ef81>\u001b[0m in \u001b[0;36m<module>\u001b[0;34m\u001b[0m\n\u001b[1;32m      6\u001b[0m     \u001b[0mtotal_loss\u001b[0m \u001b[0;34m=\u001b[0m \u001b[0;36m0\u001b[0m\u001b[0;34m\u001b[0m\u001b[0;34m\u001b[0m\u001b[0m\n\u001b[1;32m      7\u001b[0m     \u001b[0mtrain_loss\u001b[0m\u001b[0;34m,\u001b[0m \u001b[0mtrain_acc\u001b[0m \u001b[0;34m=\u001b[0m \u001b[0mtrain_epoch\u001b[0m\u001b[0;34m(\u001b[0m\u001b[0;34m)\u001b[0m\u001b[0;34m\u001b[0m\u001b[0;34m\u001b[0m\u001b[0m\n\u001b[0;32m----> 8\u001b[0;31m     \u001b[0mval_loss\u001b[0m\u001b[0;34m,\u001b[0m \u001b[0mval_acc\u001b[0m \u001b[0;34m=\u001b[0m \u001b[0mevaluate\u001b[0m\u001b[0;34m(\u001b[0m\u001b[0;34m)\u001b[0m\u001b[0;34m\u001b[0m\u001b[0;34m\u001b[0m\u001b[0m\n\u001b[0m\u001b[1;32m      9\u001b[0m     \u001b[0mprint\u001b[0m\u001b[0;34m(\u001b[0m\u001b[0;34mf'Epoch {i} | train loss: {train_loss:.4f} | train acc: {train_acc:.4f} | val loss: {val_loss:.4f} | val acc: {val_acc:.4f}'\u001b[0m\u001b[0;34m)\u001b[0m\u001b[0;34m\u001b[0m\u001b[0;34m\u001b[0m\u001b[0m\n\u001b[1;32m     10\u001b[0m     \u001b[0mtrain_losses\u001b[0m\u001b[0;34m.\u001b[0m\u001b[0mappend\u001b[0m\u001b[0;34m(\u001b[0m\u001b[0mtrain_loss\u001b[0m\u001b[0;34m)\u001b[0m\u001b[0;34m\u001b[0m\u001b[0;34m\u001b[0m\u001b[0m\n",
      "\u001b[0;32m<ipython-input-18-c78cbf55bfbb>\u001b[0m in \u001b[0;36mevaluate\u001b[0;34m()\u001b[0m\n\u001b[1;32m     22\u001b[0m         \u001b[0mxi\u001b[0m \u001b[0;34m=\u001b[0m \u001b[0mxi\u001b[0m\u001b[0;34m.\u001b[0m\u001b[0mto\u001b[0m\u001b[0;34m(\u001b[0m\u001b[0mdevice\u001b[0m\u001b[0;34m)\u001b[0m\u001b[0;34m\u001b[0m\u001b[0;34m\u001b[0m\u001b[0m\n\u001b[1;32m     23\u001b[0m         \u001b[0myi\u001b[0m \u001b[0;34m=\u001b[0m \u001b[0myi\u001b[0m\u001b[0;34m.\u001b[0m\u001b[0mto\u001b[0m\u001b[0;34m(\u001b[0m\u001b[0mdevice\u001b[0m\u001b[0;34m)\u001b[0m\u001b[0;34m\u001b[0m\u001b[0;34m\u001b[0m\u001b[0m\n\u001b[0;32m---> 24\u001b[0;31m         \u001b[0my_hat\u001b[0m \u001b[0;34m=\u001b[0m \u001b[0mmodel\u001b[0m\u001b[0;34m(\u001b[0m\u001b[0mxi\u001b[0m\u001b[0;34m)\u001b[0m\u001b[0;34m\u001b[0m\u001b[0;34m\u001b[0m\u001b[0m\n\u001b[0m\u001b[1;32m     25\u001b[0m         \u001b[0mloss\u001b[0m \u001b[0;34m=\u001b[0m \u001b[0mloss_function\u001b[0m\u001b[0;34m(\u001b[0m\u001b[0my_hat\u001b[0m\u001b[0;34m,\u001b[0m \u001b[0myi\u001b[0m\u001b[0;34m)\u001b[0m\u001b[0;34m\u001b[0m\u001b[0;34m\u001b[0m\u001b[0m\n\u001b[1;32m     26\u001b[0m         \u001b[0mtotal_loss\u001b[0m \u001b[0;34m+=\u001b[0m \u001b[0mloss\u001b[0m\u001b[0;34m\u001b[0m\u001b[0;34m\u001b[0m\u001b[0m\n",
      "\u001b[0;32m~/anaconda3/envs/env_torch/lib/python3.8/site-packages/torch/nn/modules/module.py\u001b[0m in \u001b[0;36m_call_impl\u001b[0;34m(self, *input, **kwargs)\u001b[0m\n\u001b[1;32m    887\u001b[0m             \u001b[0mresult\u001b[0m \u001b[0;34m=\u001b[0m \u001b[0mself\u001b[0m\u001b[0;34m.\u001b[0m\u001b[0m_slow_forward\u001b[0m\u001b[0;34m(\u001b[0m\u001b[0;34m*\u001b[0m\u001b[0minput\u001b[0m\u001b[0;34m,\u001b[0m \u001b[0;34m**\u001b[0m\u001b[0mkwargs\u001b[0m\u001b[0;34m)\u001b[0m\u001b[0;34m\u001b[0m\u001b[0;34m\u001b[0m\u001b[0m\n\u001b[1;32m    888\u001b[0m         \u001b[0;32melse\u001b[0m\u001b[0;34m:\u001b[0m\u001b[0;34m\u001b[0m\u001b[0;34m\u001b[0m\u001b[0m\n\u001b[0;32m--> 889\u001b[0;31m             \u001b[0mresult\u001b[0m \u001b[0;34m=\u001b[0m \u001b[0mself\u001b[0m\u001b[0;34m.\u001b[0m\u001b[0mforward\u001b[0m\u001b[0;34m(\u001b[0m\u001b[0;34m*\u001b[0m\u001b[0minput\u001b[0m\u001b[0;34m,\u001b[0m \u001b[0;34m**\u001b[0m\u001b[0mkwargs\u001b[0m\u001b[0;34m)\u001b[0m\u001b[0;34m\u001b[0m\u001b[0;34m\u001b[0m\u001b[0m\n\u001b[0m\u001b[1;32m    890\u001b[0m         for hook in itertools.chain(\n\u001b[1;32m    891\u001b[0m                 \u001b[0m_global_forward_hooks\u001b[0m\u001b[0;34m.\u001b[0m\u001b[0mvalues\u001b[0m\u001b[0;34m(\u001b[0m\u001b[0;34m)\u001b[0m\u001b[0;34m,\u001b[0m\u001b[0;34m\u001b[0m\u001b[0;34m\u001b[0m\u001b[0m\n",
      "\u001b[0;32m<ipython-input-13-4db24e71e2ca>\u001b[0m in \u001b[0;36mforward\u001b[0;34m(self, inx)\u001b[0m\n\u001b[1;32m     14\u001b[0m     \u001b[0;32mdef\u001b[0m \u001b[0mforward\u001b[0m\u001b[0;34m(\u001b[0m\u001b[0mself\u001b[0m\u001b[0;34m,\u001b[0m \u001b[0minx\u001b[0m\u001b[0;34m)\u001b[0m\u001b[0;34m:\u001b[0m\u001b[0;34m\u001b[0m\u001b[0;34m\u001b[0m\u001b[0m\n\u001b[1;32m     15\u001b[0m         \u001b[0mout\u001b[0m \u001b[0;34m=\u001b[0m \u001b[0mself\u001b[0m\u001b[0;34m.\u001b[0m\u001b[0membedding\u001b[0m\u001b[0;34m(\u001b[0m\u001b[0minx\u001b[0m\u001b[0;34m)\u001b[0m\u001b[0;34m\u001b[0m\u001b[0;34m\u001b[0m\u001b[0m\n\u001b[0;32m---> 16\u001b[0;31m         \u001b[0mout\u001b[0m\u001b[0;34m,\u001b[0m\u001b[0m_\u001b[0m \u001b[0;34m=\u001b[0m \u001b[0mself\u001b[0m\u001b[0;34m.\u001b[0m\u001b[0mlstm\u001b[0m\u001b[0;34m(\u001b[0m\u001b[0mout\u001b[0m\u001b[0;34m)\u001b[0m\u001b[0;34m\u001b[0m\u001b[0;34m\u001b[0m\u001b[0m\n\u001b[0m\u001b[1;32m     17\u001b[0m         \u001b[0mout\u001b[0m \u001b[0;34m=\u001b[0m \u001b[0mout\u001b[0m\u001b[0;34m[\u001b[0m\u001b[0;34m:\u001b[0m\u001b[0;34m,\u001b[0m\u001b[0;34m-\u001b[0m\u001b[0;36m1\u001b[0m\u001b[0;34m,\u001b[0m\u001b[0;34m:\u001b[0m\u001b[0;34m]\u001b[0m \u001b[0;31m# only wants the last layer of the LSTM\u001b[0m\u001b[0;34m\u001b[0m\u001b[0;34m\u001b[0m\u001b[0m\n\u001b[1;32m     18\u001b[0m         \u001b[0mout\u001b[0m \u001b[0;34m=\u001b[0m \u001b[0mself\u001b[0m\u001b[0;34m.\u001b[0m\u001b[0mfc1\u001b[0m\u001b[0;34m(\u001b[0m\u001b[0mout\u001b[0m\u001b[0;34m)\u001b[0m\u001b[0;34m\u001b[0m\u001b[0;34m\u001b[0m\u001b[0m\n",
      "\u001b[0;32m~/anaconda3/envs/env_torch/lib/python3.8/site-packages/torch/nn/modules/module.py\u001b[0m in \u001b[0;36m_call_impl\u001b[0;34m(self, *input, **kwargs)\u001b[0m\n\u001b[1;32m    887\u001b[0m             \u001b[0mresult\u001b[0m \u001b[0;34m=\u001b[0m \u001b[0mself\u001b[0m\u001b[0;34m.\u001b[0m\u001b[0m_slow_forward\u001b[0m\u001b[0;34m(\u001b[0m\u001b[0;34m*\u001b[0m\u001b[0minput\u001b[0m\u001b[0;34m,\u001b[0m \u001b[0;34m**\u001b[0m\u001b[0mkwargs\u001b[0m\u001b[0;34m)\u001b[0m\u001b[0;34m\u001b[0m\u001b[0;34m\u001b[0m\u001b[0m\n\u001b[1;32m    888\u001b[0m         \u001b[0;32melse\u001b[0m\u001b[0;34m:\u001b[0m\u001b[0;34m\u001b[0m\u001b[0;34m\u001b[0m\u001b[0m\n\u001b[0;32m--> 889\u001b[0;31m             \u001b[0mresult\u001b[0m \u001b[0;34m=\u001b[0m \u001b[0mself\u001b[0m\u001b[0;34m.\u001b[0m\u001b[0mforward\u001b[0m\u001b[0;34m(\u001b[0m\u001b[0;34m*\u001b[0m\u001b[0minput\u001b[0m\u001b[0;34m,\u001b[0m \u001b[0;34m**\u001b[0m\u001b[0mkwargs\u001b[0m\u001b[0;34m)\u001b[0m\u001b[0;34m\u001b[0m\u001b[0;34m\u001b[0m\u001b[0m\n\u001b[0m\u001b[1;32m    890\u001b[0m         for hook in itertools.chain(\n\u001b[1;32m    891\u001b[0m                 \u001b[0m_global_forward_hooks\u001b[0m\u001b[0;34m.\u001b[0m\u001b[0mvalues\u001b[0m\u001b[0;34m(\u001b[0m\u001b[0;34m)\u001b[0m\u001b[0;34m,\u001b[0m\u001b[0;34m\u001b[0m\u001b[0;34m\u001b[0m\u001b[0m\n",
      "\u001b[0;32m~/anaconda3/envs/env_torch/lib/python3.8/site-packages/torch/nn/modules/rnn.py\u001b[0m in \u001b[0;36mforward\u001b[0;34m(self, input, hx)\u001b[0m\n\u001b[1;32m    659\u001b[0m         \u001b[0mself\u001b[0m\u001b[0;34m.\u001b[0m\u001b[0mcheck_forward_args\u001b[0m\u001b[0;34m(\u001b[0m\u001b[0minput\u001b[0m\u001b[0;34m,\u001b[0m \u001b[0mhx\u001b[0m\u001b[0;34m,\u001b[0m \u001b[0mbatch_sizes\u001b[0m\u001b[0;34m)\u001b[0m\u001b[0;34m\u001b[0m\u001b[0;34m\u001b[0m\u001b[0m\n\u001b[1;32m    660\u001b[0m         \u001b[0;32mif\u001b[0m \u001b[0mbatch_sizes\u001b[0m \u001b[0;32mis\u001b[0m \u001b[0;32mNone\u001b[0m\u001b[0;34m:\u001b[0m\u001b[0;34m\u001b[0m\u001b[0;34m\u001b[0m\u001b[0m\n\u001b[0;32m--> 661\u001b[0;31m             result = _VF.lstm(input, hx, self._flat_weights, self.bias, self.num_layers,\n\u001b[0m\u001b[1;32m    662\u001b[0m                               self.dropout, self.training, self.bidirectional, self.batch_first)\n\u001b[1;32m    663\u001b[0m         \u001b[0;32melse\u001b[0m\u001b[0;34m:\u001b[0m\u001b[0;34m\u001b[0m\u001b[0;34m\u001b[0m\u001b[0m\n",
      "\u001b[0;31mRuntimeError\u001b[0m: cuDNN error: CUDNN_STATUS_EXECUTION_FAILED"
     ]
    }
   ],
   "source": [
    "EPOCHS = 10\n",
    "train_losses = []\n",
    "val_losses = []\n",
    "\n",
    "for i in range(EPOCHS):\n",
    "    total_loss = 0\n",
    "    train_loss, train_acc = train_epoch()\n",
    "    val_loss, val_acc = evaluate()\n",
    "    print(f'Epoch {i} | train loss: {train_loss:.4f} | train acc: {train_acc:.4f} | val loss: {val_loss:.4f} | val acc: {val_acc:.4f}')\n",
    "    train_losses.append(train_loss)\n",
    "    val_losses.append(val_loss)"
   ]
  },
  {
   "cell_type": "code",
   "execution_count": 182,
   "metadata": {},
   "outputs": [
    {
     "data": {
      "image/png": "[encoded data removed]",
      "text/plain": [
       "<Figure size 432x288 with 1 Axes>"
      ]
     },
     "metadata": {
      "needs_background": "light"
     },
     "output_type": "display_data"
    }
   ],
   "source": [
    "plt.plot(train_losses,\n",
    "        color='r')\n",
    "plt.plot(val_losses,\n",
    "        color='b')\n",
    "plt.legend(['train_loss', 'val_loss'])\n",
    "plt.xlabel('epoch')\n",
    "plt.ylabel('loss')\n",
    "plt.show()"
   ]
  },
  {
   "cell_type": "code",
   "execution_count": 164,
   "metadata": {
    "scrolled": false
   },
   "outputs": [
    {
     "name": "stdout",
     "output_type": "stream",
     "text": [
      "x: X said plans to expand its recycled furniture business elsewhere in X , too . \n",
      "y_true: positive\n",
      "y_hat: neutral\n",
      "x: X - owned contract manufacturer of electronics X X X has announced plans to recruit more than 650 new staffers to fulfill new orders in X , where the company has two plants . \n",
      "y_true: positive\n",
      "y_hat: neutral\n",
      "x: X system supplier X -- up 24.51 pct -- was the next most heavily traded share after X X , a software house , acquired 77.4 pct of the company this morning for just under 33 mln eur . \n",
      "y_true: neutral\n",
      "y_hat: neutral\n",
      "x: X highest growth would be in X , while weakening demand would continue in X X , X said . \n",
      "y_true: neutral\n",
      "y_hat: neutral\n",
      "x: X share capital of X X X business X 1944757 - 4 is X 44,767,513.80 and it is divided into 74,612,523 shares . \n",
      "y_true: neutral\n",
      "y_hat: neutral\n",
      "x: X pretax profit decreased by 69.2 % to X 41.0 mn from X 133.1 mn in 2007 . \n",
      "y_true: negative\n",
      "y_hat: neutral\n",
      "x: X the broker repeated its ` buy ' rating , based on expectations that current restructuring will lead to a clear improvement in performance in X in 2007 . \n",
      "y_true: positive\n",
      "y_hat: neutral\n",
      "x: X executive said that countries such as X , X , X and X will lead the adoption in the business X services segment , while X and X will be the early adopters of carrier X for mobile backhaul . \n",
      "y_true: neutral\n",
      "y_hat: neutral\n",
      "x: X aim of the X 's X sessions is to give further clarity on information , which has been made public already earlier . \n",
      "y_true: neutral\n",
      "y_hat: neutral\n",
      "x: X : 59 087 901 620 now represent 5.10 % of the voting rights and share capital of X X . \n",
      "y_true: neutral\n",
      "y_hat: neutral\n",
      "x: X X , born 1964 , will replace X X who has worked as acting X , X & X since X 2007 . \n",
      "y_true: neutral\n",
      "y_hat: neutral\n",
      "x: X size of a cider bottle will remain unchanged . \n",
      "y_true: neutral\n",
      "y_hat: neutral\n",
      "x: X deal also includes a ten - year maintenance agreement . \n",
      "y_true: neutral\n",
      "y_hat: neutral\n",
      "x: X ( X ) - X said it has agreed to sell the X nickel mine in X to X group X X X for 10 mln eur worth of X shares . \n",
      "y_true: neutral\n",
      "y_hat: neutral\n",
      "x: X serves demanding business - to - business customers . \n",
      "y_true: neutral\n",
      "y_hat: neutral\n",
      "x: X maker X X X said X it has been acquitted of charges that it participated in a paper price - fixing conspiracy in the X X . \n",
      "y_true: positive\n",
      "y_hat: neutral\n",
      "x: X 25 X 2009 , X 's stake in X was 19.45 % . \n",
      "y_true: neutral\n",
      "y_hat: neutral\n",
      "x: X total of 140 jobs will be reduced at the X X X . \n",
      "y_true: negative\n",
      "y_hat: neutral\n",
      "x: ( X ) - X 21 , 2009 - X - based X consultancy X X ( X : X ) said today its net profit plunged to X 29.4 million ( X 43.9 m ) for the first nine months of 2009 from X 58.7 million for the same period o \n",
      "y_true: negative\n",
      "y_hat: neutral\n",
      "x: X X represents 25 % of X 's billing , and X X is one of the fastest growing regions for the company . \n",
      "y_true: neutral\n",
      "y_hat: neutral\n",
      "x: X order comprises four ball mills , which will be organized in two different streams for treating ore in the X platinum mine . \n",
      "y_true: neutral\n",
      "y_hat: neutral\n",
      "x: X X , the X plant 's general manager said the application for the new licence was a ` ` standard '' procedure and that he was ` ` quite confident '' about approval being granted . \n",
      "y_true: positive\n",
      "y_hat: neutral\n",
      "x: X number of customers is one of the most important parameters in determining the price of electricity networks . \n",
      "y_true: neutral\n",
      "y_hat: neutral\n",
      "x: X order also includes extensive maintenance work of a shoe press delivered by X in 2001 . \n",
      "y_true: neutral\n",
      "y_hat: neutral\n",
      "x: X financial details were provided . \n",
      "y_true: neutral\n",
      "y_hat: neutral\n",
      "x: X total annual revenue comes up to about 160 mln zloty ( $ 56.9 mln-42 .3 mln euro ) . \n",
      "y_true: neutral\n",
      "y_hat: neutral\n",
      "x: X X said X X former X stands to win in the situation : it controls around 60 % of X 's forest machinery market . \n",
      "y_true: positive\n",
      "y_hat: neutral\n",
      "x: X   of the invention , released by the X X , said : ` ` X chambers are pressurized . \n",
      "y_true: neutral\n",
      "y_hat: neutral\n",
      "x: X X - X said it has agreed to sell X X X X , its X machinery and equipment rental unit , to X X for an undisclosed sum . \n",
      "y_true: neutral\n",
      "y_hat: neutral\n",
      "x: X X rose to X .68 from X .50 . \n",
      "y_true: positive\n",
      "y_hat: neutral\n",
      "x: X posted to the X security blog , X X . \n",
      "y_true: neutral\n",
      "y_hat: neutral\n",
      "x: X beers differ slightly from mainstream beers . \n",
      "y_true: neutral\n",
      "y_hat: neutral\n",
      "x: X beverage company X is one of the last listed companies in X that has not yet published its financial result for the second quarter of 2009 . \n",
      "y_true: neutral\n",
      "y_hat: neutral\n",
      "x: X order for plywood mill machinery and equipment announced by X X in X 2006 will be delivered to X X in X . \n",
      "y_true: neutral\n",
      "y_hat: neutral\n",
      "x: X company can not give up palm oil altogether , however . \n",
      "y_true: neutral\n",
      "y_hat: neutral\n",
      "x: X expanded company will continue to be called X . \n",
      "y_true: neutral\n",
      "y_hat: neutral\n",
      "x: X the third quarter , net sales increased by 12 % year - on - year to X .5 m , or by 6 % at comparable currency rates growth . \n",
      "y_true: positive\n",
      "y_hat: neutral\n",
      "x: X X ' tyres are considered genuine winter tyres in X . \n",
      "y_true: neutral\n",
      "y_hat: neutral\n",
      "x: X at the plant will be based on X X 's proprietary technology that can use a flexible input of any vegetable oil or animal fat . \n",
      "y_true: neutral\n",
      "y_hat: neutral\n",
      "x: X X and X X said on X that there were plans to build a 240 million euro ferry that would be launched on the X - X route in spring 2013 . \n",
      "y_true: neutral\n",
      "y_hat: neutral\n"
     ]
    }
   ],
   "source": [
    "eg = test(5)"
   ]
  },
  {
   "cell_type": "code",
   "execution_count": null,
   "metadata": {},
   "outputs": [],
   "source": []
  }
 ],
 "metadata": {
  "kernelspec": {
   "display_name": "env_torch",
   "language": "python",
   "name": "env_torch"
  },
  "language_info": {
   "codemirror_mode": {
    "name": "ipython",
    "version": 3
   },
   "file_extension": ".py",
   "mimetype": "text/x-python",
   "name": "python",
   "nbconvert_exporter": "python",
   "pygments_lexer": "ipython3",
   "version": "3.8.8"
  }
 },
 "nbformat": 4,
 "nbformat_minor": 4
}
